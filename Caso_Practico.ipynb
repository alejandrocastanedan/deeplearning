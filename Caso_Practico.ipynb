{
  "cells": [
    {
      "cell_type": "markdown",
      "id": "f430cc82-0e07-4345-b40c-3a1e22de51ff",
      "metadata": {
        "id": "f430cc82-0e07-4345-b40c-3a1e22de51ff"
      },
      "source": [
        "<h1><font color=\"#113D68\" size=5>Redes neuronales y deep learning</font></h1>\n",
        "\n",
        "\n",
        "\n",
        "<h1><font color=\"#113D68\" size=6>Caso Práctico: análisis de un problema de regresión con Deep Learning</font></h1>\n",
        "\n",
        "\n",
        "<br><br>\n",
        "<div style=\"text-align: right\">\n",
        "<font size=3>Daniel González</font><br>\n",
        "<font size=3>Semana 3: Ajuste de modelos de Deep Learning</font><br>\n",
        "<font size=3>IEBS</font>\n",
        "</div>\n",
        "\n",
        "---\n"
      ]
    },
    {
      "cell_type": "markdown",
      "id": "1dba54fa-f73e-40c2-9883-b4186be0a564",
      "metadata": {
        "id": "1dba54fa-f73e-40c2-9883-b4186be0a564"
      },
      "source": [
        "<a id=\"indice\"></a>\n",
        "<h2><font color=\"#004D7F\" size=5>Índice</font></h2>\n",
        "\n",
        "* [Caso práctico](#section1)\n",
        "    - [Parte obligatoria](#section1.1)\n",
        "    - [Parte opcional](#section1.2)\n",
        "    - [Objetivos](#section1.3)\n",
        "    - [Criterios de entrega](#section1.4)\n",
        "    - [Temporalización](#section1.5)\n",
        "* [California Housing Dataset](#section2)\n",
        "* [Establecer una función de coste adecuada a nuestro problema](#section3)\n",
        "* [Overfitting sobre un pequeño conjunto de datos](#section4)\n",
        "    - [Ejercicio 1](section4.1)\n",
        "    - [Ejercicio 2](section4.2)\n",
        "    - [Ejercicio 3](section4.3)\n",
        "    - [Ejercicio 4](section4.4)\n",
        "    - [Ejercicio 5](section4.5)\n",
        "* [Elegimos un Optimizer](#section5)\n",
        "    - [Ejercicio 6](section5.1)\n",
        "    - [Ejercicio 7](section5.2)\n",
        "    - [Ejercicio 8](section5.3)\n",
        "* [Probar diferentes configuraciones con un número pequeño de epochs](#section6)\n",
        "    - [Ejercicio 9](section6.1)\n",
        "    - [Ejercicio 10](section6.2)\n",
        "* [Ajuste refinado de los parámetros con más epochs](#section7)\n",
        "    - [Ejercicio 11](section7.1)\n",
        "    - [Ejercicio 12](section7.2)"
      ]
    },
    {
      "cell_type": "code",
      "execution_count": 1,
      "id": "e063b23e-4fb9-42ea-b062-48b9657a0acd",
      "metadata": {
        "id": "e063b23e-4fb9-42ea-b062-48b9657a0acd"
      },
      "outputs": [],
      "source": [
        "import tensorflow as tf\n",
        "import numpy as np\n",
        "import pandas as pd\n",
        "\n",
        "# Para mostrar gráficas\n",
        "import matplotlib.pyplot as plt\n",
        "%matplotlib inline\n",
        "\n",
        "# Anaconda fixing problem\n",
        "import os\n",
        "os.environ['KMP_DUPLICATE_LIB_OK']='True'"
      ]
    },
    {
      "cell_type": "markdown",
      "id": "6e317bcf-3b1a-45ca-8505-8472b270353f",
      "metadata": {
        "id": "6e317bcf-3b1a-45ca-8505-8472b270353f"
      },
      "source": [
        "# <font color=\"#004D7F\" size=5>Caso práctico</font>\n",
        "\n",
        "El objetivo de este caso práctico es simular como se haría un análisis completo de un problema para resolverlo con Deep Learning. Nos pondremos en la piel de un *data scientist* dedicado a analizar y crear modelos de Deep Learning para pasarlos a producción y ser desplegados en una aplicación.\n",
        "\n",
        "**Destacar que este caso práctico es la continuación de la última actividad realizada en la semana anterior. En la actividad de la semana anterior encontramos la mejor arquitectura para los datos que tenemos y ahora vmoas a realizar más experimentos jugando con los optimizers y el valor del learning rate.**\n",
        "\n",
        "Imaginemos que tenemos un dataset completo que queremos explotar, nuestra labor será coger este dataset (California Housing Dataset) y desde 0 intentar llegar conseguir un modelo que tenga un buen rendimiento ajustándolo poco a poco como hemos visto en clase. Por lo que tendrmeos que entrerar distintas redes y comparar los resultados que obtengamos en cada experimento para ver cual es mejor.\n",
        "\n",
        "Cada experimento que tendremos que realizar estará bien definido, la red que deberéis crear y entrenar será proporcinada por lo que solamente tendréis que crear la red que se nos indica con TensorFlow y realizar el entrenamiento de la misma.\n",
        "\n",
        "## <font color=\"#004D7F\" size=4>Parte obligatoria</font>\n",
        "\n",
        "Será obligatorio realizar cada uno de los ejercicios que están definidos. En cada ejercicio está definida la red que se tiene que crear y la configuración con la que se tiene que entrenar, por lo que solamente tendréis que pasar esa definición a código con TensorFlow.\n",
        "\n",
        "Para tener una buena práctica en la realización de este caso práctico se ofrecen esta recomendaciones:\n",
        "\n",
        "- Utiliza correctamente el sistema de celdas de jupyter. La libreta está realizada de tal forma que solo tendréis que completar las celdas que se indican, ya sea con código o con texto en markdown. Se recomienda rellenar solamente las celdas indicadas para que quede un informe limpio y fácil de seguir. Si fuera necesario incluir más celdas por cualquier motivo se puede hacer pero realizarlo con cuidado para no ensuciar demasiado la libreta.\n",
        "<br><br>\n",
        "- Las redes que tendréis que crear en cada experimento son las vistas en clase, por lo que os podéis inspirar en los ejemplos vistos en los tutoriales. Os recomiendo que no copiéis y peguéis código tal cual, sino que lo escribáis por vuestra cuenta y entendáis lo que estáis haciendo en cada momento. Tomaros el tiempo que haga falta para entender cada paso.\n",
        "<br><br>\n",
        "- Comprueba que todo se ejecuta correctamente antes de enviar tu trabajo. La mejor forma de enviarlo es exportando la libreta a pdf o html para enviarla en un formato más profesional.\n",
        "\n",
        "## <font color=\"#004D7F\" size=4>Parte opcional</font>\n",
        "La parte opcional son los últimos ejercicios donde tendréis que sacar una conclusión de si la red que habéis llegado a conseguir tiene un buen rendimiento.\n",
        "\n",
        "## <font color=\"#004D7F\" size=4>Objetivos</font>\n",
        "* Cargar y entender los datos del dataset California Housing con los que se trabajarán.\n",
        "* Crear cada una de las redes indicadas en los experimentos.\n",
        "* Entrenar cada una de las redes creadas en los experimentos.\n",
        "* Entender los resultados obtenidos en cada entrenamiento.\n",
        "\n",
        "## <font color=\"#004D7F\" size=4>Criterios de entrega</font>\n",
        "Se deberá entregar una libreta de jupyter, aunque se agradecerá que el formato entregado se html o pdf, el trabajo debe estar autocontenido, incluyendo código y texto explicativo para cada sección."
      ]
    },
    {
      "cell_type": "markdown",
      "id": "4f1aaf67-907f-4b6b-afeb-590f5e5b0e47",
      "metadata": {
        "id": "4f1aaf67-907f-4b6b-afeb-590f5e5b0e47"
      },
      "source": [
        "# <font color=\"#004D7F\" size=5>California Housing Dataset</font>\n",
        "En este notebook vamos a usar un dataset nuevo, el dataset es muy parecido al dataset del precio de las casas de boston. Esta vez vamos a utilizar un conjunto de datos que contienen información sobre el precio de las casas encontradas en un distrito de California. Las columnas son las siguientes:\n",
        "\n",
        "- _longitude_: cuanto de al oeste está una casa; un valor más alto está más al oeste.\n",
        "- _latitude_: cuanto de al norte está una casa; un valor más alto está más al norte.\n",
        "- _housing_median_age_: edad media de una casa; un valor bajo es una casa más nueva.\n",
        "- _total_rooms_: número total de habitaciones.\n",
        "- _total_bedrooms_: número total de dormitorios.\n",
        "- _population_: número total de personas que residen.\n",
        "- _households_: número total de hogares, un grupo de personas que residen dentro de una unidad de vivienda.\n",
        "- _median_income_: ingreso medio de los hogares dentro de un bloque de casas (medido en decenas de miles de dólares).\n",
        "- _ocean_proximity_: ubicación de la casa cerca del océano o mar.\n",
        "- _median_house_value (**variables a predecir**)_: valor medio de la vivienda (medido en dólares).\n",
        "\n",
        "Vamos a cargar los datos desde el fichero `housing.csv`:"
      ]
    },
    {
      "cell_type": "code",
      "execution_count": 2,
      "id": "ad482b16-92bc-42a2-8515-cfc9d9018a81",
      "metadata": {
        "id": "ad482b16-92bc-42a2-8515-cfc9d9018a81"
      },
      "outputs": [],
      "source": [
        "df = pd.read_csv('housing.csv')"
      ]
    },
    {
      "cell_type": "code",
      "execution_count": 3,
      "id": "815c3f5b-9019-4799-865c-25419f6814d1",
      "metadata": {
        "colab": {
          "base_uri": "https://localhost:8080/",
          "height": 226
        },
        "id": "815c3f5b-9019-4799-865c-25419f6814d1",
        "outputId": "204b2d57-9fca-4b5f-d622-edbcc63231ab"
      },
      "outputs": [
        {
          "output_type": "execute_result",
          "data": {
            "text/plain": [
              "   longitude  latitude  housing_median_age  total_rooms  total_bedrooms  \\\n",
              "0    -122.23     37.88                41.0        880.0           129.0   \n",
              "1    -122.22     37.86                21.0       7099.0          1106.0   \n",
              "2    -122.24     37.85                52.0       1467.0           190.0   \n",
              "3    -122.25     37.85                52.0       1274.0           235.0   \n",
              "4    -122.25     37.85                52.0       1627.0           280.0   \n",
              "\n",
              "   population  households  median_income  ocean_proximity  median_house_value  \n",
              "0       322.0       126.0         8.3252                3            452600.0  \n",
              "1      2401.0      1138.0         8.3014                3            358500.0  \n",
              "2       496.0       177.0         7.2574                3            352100.0  \n",
              "3       558.0       219.0         5.6431                3            341300.0  \n",
              "4       565.0       259.0         3.8462                3            342200.0  "
            ],
            "text/html": [
              "\n",
              "  <div id=\"df-72ff6bfe-f394-4085-acc0-2a18446892ed\" class=\"colab-df-container\">\n",
              "    <div>\n",
              "<style scoped>\n",
              "    .dataframe tbody tr th:only-of-type {\n",
              "        vertical-align: middle;\n",
              "    }\n",
              "\n",
              "    .dataframe tbody tr th {\n",
              "        vertical-align: top;\n",
              "    }\n",
              "\n",
              "    .dataframe thead th {\n",
              "        text-align: right;\n",
              "    }\n",
              "</style>\n",
              "<table border=\"1\" class=\"dataframe\">\n",
              "  <thead>\n",
              "    <tr style=\"text-align: right;\">\n",
              "      <th></th>\n",
              "      <th>longitude</th>\n",
              "      <th>latitude</th>\n",
              "      <th>housing_median_age</th>\n",
              "      <th>total_rooms</th>\n",
              "      <th>total_bedrooms</th>\n",
              "      <th>population</th>\n",
              "      <th>households</th>\n",
              "      <th>median_income</th>\n",
              "      <th>ocean_proximity</th>\n",
              "      <th>median_house_value</th>\n",
              "    </tr>\n",
              "  </thead>\n",
              "  <tbody>\n",
              "    <tr>\n",
              "      <th>0</th>\n",
              "      <td>-122.23</td>\n",
              "      <td>37.88</td>\n",
              "      <td>41.0</td>\n",
              "      <td>880.0</td>\n",
              "      <td>129.0</td>\n",
              "      <td>322.0</td>\n",
              "      <td>126.0</td>\n",
              "      <td>8.3252</td>\n",
              "      <td>3</td>\n",
              "      <td>452600.0</td>\n",
              "    </tr>\n",
              "    <tr>\n",
              "      <th>1</th>\n",
              "      <td>-122.22</td>\n",
              "      <td>37.86</td>\n",
              "      <td>21.0</td>\n",
              "      <td>7099.0</td>\n",
              "      <td>1106.0</td>\n",
              "      <td>2401.0</td>\n",
              "      <td>1138.0</td>\n",
              "      <td>8.3014</td>\n",
              "      <td>3</td>\n",
              "      <td>358500.0</td>\n",
              "    </tr>\n",
              "    <tr>\n",
              "      <th>2</th>\n",
              "      <td>-122.24</td>\n",
              "      <td>37.85</td>\n",
              "      <td>52.0</td>\n",
              "      <td>1467.0</td>\n",
              "      <td>190.0</td>\n",
              "      <td>496.0</td>\n",
              "      <td>177.0</td>\n",
              "      <td>7.2574</td>\n",
              "      <td>3</td>\n",
              "      <td>352100.0</td>\n",
              "    </tr>\n",
              "    <tr>\n",
              "      <th>3</th>\n",
              "      <td>-122.25</td>\n",
              "      <td>37.85</td>\n",
              "      <td>52.0</td>\n",
              "      <td>1274.0</td>\n",
              "      <td>235.0</td>\n",
              "      <td>558.0</td>\n",
              "      <td>219.0</td>\n",
              "      <td>5.6431</td>\n",
              "      <td>3</td>\n",
              "      <td>341300.0</td>\n",
              "    </tr>\n",
              "    <tr>\n",
              "      <th>4</th>\n",
              "      <td>-122.25</td>\n",
              "      <td>37.85</td>\n",
              "      <td>52.0</td>\n",
              "      <td>1627.0</td>\n",
              "      <td>280.0</td>\n",
              "      <td>565.0</td>\n",
              "      <td>259.0</td>\n",
              "      <td>3.8462</td>\n",
              "      <td>3</td>\n",
              "      <td>342200.0</td>\n",
              "    </tr>\n",
              "  </tbody>\n",
              "</table>\n",
              "</div>\n",
              "    <div class=\"colab-df-buttons\">\n",
              "\n",
              "  <div class=\"colab-df-container\">\n",
              "    <button class=\"colab-df-convert\" onclick=\"convertToInteractive('df-72ff6bfe-f394-4085-acc0-2a18446892ed')\"\n",
              "            title=\"Convert this dataframe to an interactive table.\"\n",
              "            style=\"display:none;\">\n",
              "\n",
              "  <svg xmlns=\"http://www.w3.org/2000/svg\" height=\"24px\" viewBox=\"0 -960 960 960\">\n",
              "    <path d=\"M120-120v-720h720v720H120Zm60-500h600v-160H180v160Zm220 220h160v-160H400v160Zm0 220h160v-160H400v160ZM180-400h160v-160H180v160Zm440 0h160v-160H620v160ZM180-180h160v-160H180v160Zm440 0h160v-160H620v160Z\"/>\n",
              "  </svg>\n",
              "    </button>\n",
              "\n",
              "  <style>\n",
              "    .colab-df-container {\n",
              "      display:flex;\n",
              "      gap: 12px;\n",
              "    }\n",
              "\n",
              "    .colab-df-convert {\n",
              "      background-color: #E8F0FE;\n",
              "      border: none;\n",
              "      border-radius: 50%;\n",
              "      cursor: pointer;\n",
              "      display: none;\n",
              "      fill: #1967D2;\n",
              "      height: 32px;\n",
              "      padding: 0 0 0 0;\n",
              "      width: 32px;\n",
              "    }\n",
              "\n",
              "    .colab-df-convert:hover {\n",
              "      background-color: #E2EBFA;\n",
              "      box-shadow: 0px 1px 2px rgba(60, 64, 67, 0.3), 0px 1px 3px 1px rgba(60, 64, 67, 0.15);\n",
              "      fill: #174EA6;\n",
              "    }\n",
              "\n",
              "    .colab-df-buttons div {\n",
              "      margin-bottom: 4px;\n",
              "    }\n",
              "\n",
              "    [theme=dark] .colab-df-convert {\n",
              "      background-color: #3B4455;\n",
              "      fill: #D2E3FC;\n",
              "    }\n",
              "\n",
              "    [theme=dark] .colab-df-convert:hover {\n",
              "      background-color: #434B5C;\n",
              "      box-shadow: 0px 1px 3px 1px rgba(0, 0, 0, 0.15);\n",
              "      filter: drop-shadow(0px 1px 2px rgba(0, 0, 0, 0.3));\n",
              "      fill: #FFFFFF;\n",
              "    }\n",
              "  </style>\n",
              "\n",
              "    <script>\n",
              "      const buttonEl =\n",
              "        document.querySelector('#df-72ff6bfe-f394-4085-acc0-2a18446892ed button.colab-df-convert');\n",
              "      buttonEl.style.display =\n",
              "        google.colab.kernel.accessAllowed ? 'block' : 'none';\n",
              "\n",
              "      async function convertToInteractive(key) {\n",
              "        const element = document.querySelector('#df-72ff6bfe-f394-4085-acc0-2a18446892ed');\n",
              "        const dataTable =\n",
              "          await google.colab.kernel.invokeFunction('convertToInteractive',\n",
              "                                                    [key], {});\n",
              "        if (!dataTable) return;\n",
              "\n",
              "        const docLinkHtml = 'Like what you see? Visit the ' +\n",
              "          '<a target=\"_blank\" href=https://colab.research.google.com/notebooks/data_table.ipynb>data table notebook</a>'\n",
              "          + ' to learn more about interactive tables.';\n",
              "        element.innerHTML = '';\n",
              "        dataTable['output_type'] = 'display_data';\n",
              "        await google.colab.output.renderOutput(dataTable, element);\n",
              "        const docLink = document.createElement('div');\n",
              "        docLink.innerHTML = docLinkHtml;\n",
              "        element.appendChild(docLink);\n",
              "      }\n",
              "    </script>\n",
              "  </div>\n",
              "\n",
              "\n",
              "<div id=\"df-28957867-ea31-447e-986c-3e18cca375d9\">\n",
              "  <button class=\"colab-df-quickchart\" onclick=\"quickchart('df-28957867-ea31-447e-986c-3e18cca375d9')\"\n",
              "            title=\"Suggest charts\"\n",
              "            style=\"display:none;\">\n",
              "\n",
              "<svg xmlns=\"http://www.w3.org/2000/svg\" height=\"24px\"viewBox=\"0 0 24 24\"\n",
              "     width=\"24px\">\n",
              "    <g>\n",
              "        <path d=\"M19 3H5c-1.1 0-2 .9-2 2v14c0 1.1.9 2 2 2h14c1.1 0 2-.9 2-2V5c0-1.1-.9-2-2-2zM9 17H7v-7h2v7zm4 0h-2V7h2v10zm4 0h-2v-4h2v4z\"/>\n",
              "    </g>\n",
              "</svg>\n",
              "  </button>\n",
              "\n",
              "<style>\n",
              "  .colab-df-quickchart {\n",
              "      --bg-color: #E8F0FE;\n",
              "      --fill-color: #1967D2;\n",
              "      --hover-bg-color: #E2EBFA;\n",
              "      --hover-fill-color: #174EA6;\n",
              "      --disabled-fill-color: #AAA;\n",
              "      --disabled-bg-color: #DDD;\n",
              "  }\n",
              "\n",
              "  [theme=dark] .colab-df-quickchart {\n",
              "      --bg-color: #3B4455;\n",
              "      --fill-color: #D2E3FC;\n",
              "      --hover-bg-color: #434B5C;\n",
              "      --hover-fill-color: #FFFFFF;\n",
              "      --disabled-bg-color: #3B4455;\n",
              "      --disabled-fill-color: #666;\n",
              "  }\n",
              "\n",
              "  .colab-df-quickchart {\n",
              "    background-color: var(--bg-color);\n",
              "    border: none;\n",
              "    border-radius: 50%;\n",
              "    cursor: pointer;\n",
              "    display: none;\n",
              "    fill: var(--fill-color);\n",
              "    height: 32px;\n",
              "    padding: 0;\n",
              "    width: 32px;\n",
              "  }\n",
              "\n",
              "  .colab-df-quickchart:hover {\n",
              "    background-color: var(--hover-bg-color);\n",
              "    box-shadow: 0 1px 2px rgba(60, 64, 67, 0.3), 0 1px 3px 1px rgba(60, 64, 67, 0.15);\n",
              "    fill: var(--button-hover-fill-color);\n",
              "  }\n",
              "\n",
              "  .colab-df-quickchart-complete:disabled,\n",
              "  .colab-df-quickchart-complete:disabled:hover {\n",
              "    background-color: var(--disabled-bg-color);\n",
              "    fill: var(--disabled-fill-color);\n",
              "    box-shadow: none;\n",
              "  }\n",
              "\n",
              "  .colab-df-spinner {\n",
              "    border: 2px solid var(--fill-color);\n",
              "    border-color: transparent;\n",
              "    border-bottom-color: var(--fill-color);\n",
              "    animation:\n",
              "      spin 1s steps(1) infinite;\n",
              "  }\n",
              "\n",
              "  @keyframes spin {\n",
              "    0% {\n",
              "      border-color: transparent;\n",
              "      border-bottom-color: var(--fill-color);\n",
              "      border-left-color: var(--fill-color);\n",
              "    }\n",
              "    20% {\n",
              "      border-color: transparent;\n",
              "      border-left-color: var(--fill-color);\n",
              "      border-top-color: var(--fill-color);\n",
              "    }\n",
              "    30% {\n",
              "      border-color: transparent;\n",
              "      border-left-color: var(--fill-color);\n",
              "      border-top-color: var(--fill-color);\n",
              "      border-right-color: var(--fill-color);\n",
              "    }\n",
              "    40% {\n",
              "      border-color: transparent;\n",
              "      border-right-color: var(--fill-color);\n",
              "      border-top-color: var(--fill-color);\n",
              "    }\n",
              "    60% {\n",
              "      border-color: transparent;\n",
              "      border-right-color: var(--fill-color);\n",
              "    }\n",
              "    80% {\n",
              "      border-color: transparent;\n",
              "      border-right-color: var(--fill-color);\n",
              "      border-bottom-color: var(--fill-color);\n",
              "    }\n",
              "    90% {\n",
              "      border-color: transparent;\n",
              "      border-bottom-color: var(--fill-color);\n",
              "    }\n",
              "  }\n",
              "</style>\n",
              "\n",
              "  <script>\n",
              "    async function quickchart(key) {\n",
              "      const quickchartButtonEl =\n",
              "        document.querySelector('#' + key + ' button');\n",
              "      quickchartButtonEl.disabled = true;  // To prevent multiple clicks.\n",
              "      quickchartButtonEl.classList.add('colab-df-spinner');\n",
              "      try {\n",
              "        const charts = await google.colab.kernel.invokeFunction(\n",
              "            'suggestCharts', [key], {});\n",
              "      } catch (error) {\n",
              "        console.error('Error during call to suggestCharts:', error);\n",
              "      }\n",
              "      quickchartButtonEl.classList.remove('colab-df-spinner');\n",
              "      quickchartButtonEl.classList.add('colab-df-quickchart-complete');\n",
              "    }\n",
              "    (() => {\n",
              "      let quickchartButtonEl =\n",
              "        document.querySelector('#df-28957867-ea31-447e-986c-3e18cca375d9 button');\n",
              "      quickchartButtonEl.style.display =\n",
              "        google.colab.kernel.accessAllowed ? 'block' : 'none';\n",
              "    })();\n",
              "  </script>\n",
              "</div>\n",
              "\n",
              "    </div>\n",
              "  </div>\n"
            ],
            "application/vnd.google.colaboratory.intrinsic+json": {
              "type": "dataframe",
              "variable_name": "df",
              "summary": "{\n  \"name\": \"df\",\n  \"rows\": 20433,\n  \"fields\": [\n    {\n      \"column\": \"longitude\",\n      \"properties\": {\n        \"dtype\": \"number\",\n        \"std\": 2.003577890751073,\n        \"min\": -124.35,\n        \"max\": -114.31,\n        \"num_unique_values\": 844,\n        \"samples\": [\n          -118.62,\n          -119.86,\n          -121.13\n        ],\n        \"semantic_type\": \"\",\n        \"description\": \"\"\n      }\n    },\n    {\n      \"column\": \"latitude\",\n      \"properties\": {\n        \"dtype\": \"number\",\n        \"std\": 2.1363476663780268,\n        \"min\": 32.54,\n        \"max\": 41.95,\n        \"num_unique_values\": 861,\n        \"samples\": [\n          33.5,\n          34.41,\n          38.24\n        ],\n        \"semantic_type\": \"\",\n        \"description\": \"\"\n      }\n    },\n    {\n      \"column\": \"housing_median_age\",\n      \"properties\": {\n        \"dtype\": \"number\",\n        \"std\": 12.591805202182874,\n        \"min\": 1.0,\n        \"max\": 52.0,\n        \"num_unique_values\": 52,\n        \"samples\": [\n          35.0,\n          25.0,\n          7.0\n        ],\n        \"semantic_type\": \"\",\n        \"description\": \"\"\n      }\n    },\n    {\n      \"column\": \"total_rooms\",\n      \"properties\": {\n        \"dtype\": \"number\",\n        \"std\": 2185.2695669775953,\n        \"min\": 2.0,\n        \"max\": 39320.0,\n        \"num_unique_values\": 5911,\n        \"samples\": [\n          7609.0,\n          55.0,\n          811.0\n        ],\n        \"semantic_type\": \"\",\n        \"description\": \"\"\n      }\n    },\n    {\n      \"column\": \"total_bedrooms\",\n      \"properties\": {\n        \"dtype\": \"number\",\n        \"std\": 421.3850700740323,\n        \"min\": 1.0,\n        \"max\": 6445.0,\n        \"num_unique_values\": 1923,\n        \"samples\": [\n          1538.0,\n          1298.0,\n          1578.0\n        ],\n        \"semantic_type\": \"\",\n        \"description\": \"\"\n      }\n    },\n    {\n      \"column\": \"population\",\n      \"properties\": {\n        \"dtype\": \"number\",\n        \"std\": 1133.2084897449556,\n        \"min\": 3.0,\n        \"max\": 35682.0,\n        \"num_unique_values\": 3879,\n        \"samples\": [\n          650.0,\n          506.0,\n          9873.0\n        ],\n        \"semantic_type\": \"\",\n        \"description\": \"\"\n      }\n    },\n    {\n      \"column\": \"households\",\n      \"properties\": {\n        \"dtype\": \"number\",\n        \"std\": 382.2992258828495,\n        \"min\": 1.0,\n        \"max\": 6082.0,\n        \"num_unique_values\": 1809,\n        \"samples\": [\n          1568.0,\n          611.0,\n          741.0\n        ],\n        \"semantic_type\": \"\",\n        \"description\": \"\"\n      }\n    },\n    {\n      \"column\": \"median_income\",\n      \"properties\": {\n        \"dtype\": \"number\",\n        \"std\": 1.8992912493062482,\n        \"min\": 0.4999,\n        \"max\": 15.0001,\n        \"num_unique_values\": 12825,\n        \"samples\": [\n          3.6447,\n          2.9728,\n          2.2989\n        ],\n        \"semantic_type\": \"\",\n        \"description\": \"\"\n      }\n    },\n    {\n      \"column\": \"ocean_proximity\",\n      \"properties\": {\n        \"dtype\": \"number\",\n        \"std\": 1,\n        \"min\": 0,\n        \"max\": 4,\n        \"num_unique_values\": 5,\n        \"samples\": [\n          0,\n          4,\n          1\n        ],\n        \"semantic_type\": \"\",\n        \"description\": \"\"\n      }\n    },\n    {\n      \"column\": \"median_house_value\",\n      \"properties\": {\n        \"dtype\": \"number\",\n        \"std\": 115435.6670985836,\n        \"min\": 14999.0,\n        \"max\": 500001.0,\n        \"num_unique_values\": 3833,\n        \"samples\": [\n          485100.0,\n          303800.0,\n          325700.0\n        ],\n        \"semantic_type\": \"\",\n        \"description\": \"\"\n      }\n    }\n  ]\n}"
            }
          },
          "metadata": {},
          "execution_count": 3
        }
      ],
      "source": [
        "df.head()"
      ]
    },
    {
      "cell_type": "code",
      "execution_count": 4,
      "id": "584e62e4-716b-4fe5-b093-8cd0897b1147",
      "metadata": {
        "colab": {
          "base_uri": "https://localhost:8080/",
          "height": 0
        },
        "id": "584e62e4-716b-4fe5-b093-8cd0897b1147",
        "outputId": "14686fd8-e090-47fd-df1a-da4337bf59cb"
      },
      "outputs": [
        {
          "output_type": "execute_result",
          "data": {
            "text/plain": [
              "(20433, 10)"
            ]
          },
          "metadata": {},
          "execution_count": 4
        }
      ],
      "source": [
        "df.shape"
      ]
    },
    {
      "cell_type": "markdown",
      "id": "5dcbc720-9ae5-4573-b717-380fc57300db",
      "metadata": {
        "id": "5dcbc720-9ae5-4573-b717-380fc57300db"
      },
      "source": [
        "Vamos a separar la variable objetivo del resto de variables (accedemos al campo value para que los datos sean de tipo _numpy array_ y se puedan usar como variable de entrada de nuestra red):"
      ]
    },
    {
      "cell_type": "code",
      "execution_count": 5,
      "id": "66f94dde-c456-4e7c-8d66-c29989a936d5",
      "metadata": {
        "colab": {
          "base_uri": "https://localhost:8080/",
          "height": 0
        },
        "id": "66f94dde-c456-4e7c-8d66-c29989a936d5",
        "outputId": "1e7b18f8-7c8c-4a4c-d445-b23484f30586"
      },
      "outputs": [
        {
          "output_type": "execute_result",
          "data": {
            "text/plain": [
              "Index(['longitude', 'latitude', 'housing_median_age', 'total_rooms',\n",
              "       'total_bedrooms', 'population', 'households', 'median_income',\n",
              "       'ocean_proximity', 'median_house_value'],\n",
              "      dtype='object')"
            ]
          },
          "metadata": {},
          "execution_count": 5
        }
      ],
      "source": [
        "df.columns"
      ]
    },
    {
      "cell_type": "code",
      "execution_count": 6,
      "id": "a3dc67f7-96c7-4d68-a9de-cd7e987d4317",
      "metadata": {
        "id": "a3dc67f7-96c7-4d68-a9de-cd7e987d4317"
      },
      "outputs": [],
      "source": [
        "x = df[['longitude', 'latitude', 'housing_median_age', 'total_rooms',\n",
        "       'total_bedrooms', 'population', 'households', 'median_income',\n",
        "       'ocean_proximity']].values\n",
        "y = df[['median_house_value']].values"
      ]
    },
    {
      "cell_type": "markdown",
      "id": "2c2083f7-4a8a-4d7e-8d84-29c7bc8ab5e4",
      "metadata": {
        "id": "2c2083f7-4a8a-4d7e-8d84-29c7bc8ab5e4"
      },
      "source": [
        "## 1. Establecer una función de coste adecuada a nuestro problema.\n",
        "\n",
        "En este caso, como es un problema de regresión y los valores de nuestros datos son tan grandes, elegimos la función de coste `mean_absolute_percentage_error`, este error varía entre los valores 100 y 0 donde 100 es el pero error que podemos llegar a tener y 0 es el mejor error, por lo que en nuestros entrenamientos buscaremos un error más cercano a 0."
      ]
    },
    {
      "cell_type": "code",
      "execution_count": 7,
      "id": "ecce9bab-53be-4608-9ed1-22681a002b45",
      "metadata": {
        "id": "ecce9bab-53be-4608-9ed1-22681a002b45"
      },
      "outputs": [],
      "source": [
        "actual_loss = 'mean_absolute_percentage_error'"
      ]
    },
    {
      "cell_type": "markdown",
      "id": "de461a42-39f5-4e95-834b-3e44dd827b1e",
      "metadata": {
        "id": "de461a42-39f5-4e95-834b-3e44dd827b1e"
      },
      "source": [
        "## 2. Overfitting sobre un pequeño conjunto de datos.\n",
        "\n",
        "Ahora, como ya hemos visto en clase vamos a encontrar una estructura de red que encaje con los datos que vamos a utilizar. Vamos a crear varias redes a ver que talfuncionan.\n",
        "\n",
        "Para hacer entrenamientos rápidos y ver si la red se adapta a los datos vamos a usar solo un subconjunto de los datos, es decir usaremos 1000 datos y no usaremos conjunto de validación."
      ]
    },
    {
      "cell_type": "markdown",
      "id": "be35e870-17dc-4bd6-b980-dfc15407e273",
      "metadata": {
        "id": "be35e870-17dc-4bd6-b980-dfc15407e273"
      },
      "source": [
        "### <font color=\"#004D7F\" size=4>Ejercicio 1</font>\n",
        "\n",
        "Crear una red con la siguiente configuración y entrénala:\n",
        "\n",
        "- **Configuración de la red**:\n",
        "    - Arquitectura de la red:\n",
        "        - *1º Capa*: capa de entrada donde indiques la dimensión de los datos.\n",
        "        - *2º Capa*: capa densa con 8 neuronas y función de activación *relu*.\n",
        "        - *3º Capa*: capa densa con 8 neuronas y función de activación *relu*.\n",
        "        - *4º Capa*: capa de salida con una neurona sin función de activación.\n",
        "        \n",
        "    - Tipo de entrenamiento:\n",
        "        - *Epochs*: 30\n",
        "        - *Optimizador*: *adam*\n",
        "        - *Learning Rate*: 0.001"
      ]
    },
    {
      "cell_type": "code",
      "execution_count": 8,
      "id": "9a4fb414-5ca3-47bc-a796-cfbe3ba2252f",
      "metadata": {
        "colab": {
          "base_uri": "https://localhost:8080/",
          "height": 1323
        },
        "id": "9a4fb414-5ca3-47bc-a796-cfbe3ba2252f",
        "outputId": "8bf20c17-3e93-4d43-a315-f8eb8e1062a6"
      },
      "outputs": [
        {
          "output_type": "stream",
          "name": "stdout",
          "text": [
            "Forma de x_subset: (1000, 9)\n",
            "Forma de y_subset: (1000, 1)\n",
            "Epoch 1/30\n",
            "32/32 [==============================] - 1s 2ms/step - loss: 51862593536.0000 - mean_absolute_percentage_error: 100.0194\n",
            "Epoch 2/30\n",
            "32/32 [==============================] - 0s 4ms/step - loss: 51710676992.0000 - mean_absolute_percentage_error: 99.8485\n",
            "Epoch 3/30\n",
            "32/32 [==============================] - 0s 3ms/step - loss: 51453431808.0000 - mean_absolute_percentage_error: 99.5579\n",
            "Epoch 4/30\n",
            "32/32 [==============================] - 0s 2ms/step - loss: 50971729920.0000 - mean_absolute_percentage_error: 98.9953\n",
            "Epoch 5/30\n",
            "32/32 [==============================] - 0s 3ms/step - loss: 49821806592.0000 - mean_absolute_percentage_error: 97.6337\n",
            "Epoch 6/30\n",
            "32/32 [==============================] - 0s 3ms/step - loss: 47728742400.0000 - mean_absolute_percentage_error: 95.1810\n",
            "Epoch 7/30\n",
            "32/32 [==============================] - 0s 3ms/step - loss: 44582137856.0000 - mean_absolute_percentage_error: 91.1982\n",
            "Epoch 8/30\n",
            "32/32 [==============================] - 0s 2ms/step - loss: 40283107328.0000 - mean_absolute_percentage_error: 85.4072\n",
            "Epoch 9/30\n",
            "32/32 [==============================] - 0s 3ms/step - loss: 34902900736.0000 - mean_absolute_percentage_error: 77.3826\n",
            "Epoch 10/30\n",
            "32/32 [==============================] - 0s 1ms/step - loss: 29382608896.0000 - mean_absolute_percentage_error: 67.7792\n",
            "Epoch 11/30\n",
            "32/32 [==============================] - 0s 1ms/step - loss: 24615182336.0000 - mean_absolute_percentage_error: 58.1845\n",
            "Epoch 12/30\n",
            "32/32 [==============================] - 0s 1ms/step - loss: 21723426816.0000 - mean_absolute_percentage_error: 51.3332\n",
            "Epoch 13/30\n",
            "32/32 [==============================] - 0s 1ms/step - loss: 20441184256.0000 - mean_absolute_percentage_error: 47.9222\n",
            "Epoch 14/30\n",
            "32/32 [==============================] - 0s 1ms/step - loss: 20180813824.0000 - mean_absolute_percentage_error: 46.3525\n",
            "Epoch 15/30\n",
            "32/32 [==============================] - 0s 2ms/step - loss: 20014276608.0000 - mean_absolute_percentage_error: 46.0694\n",
            "Epoch 16/30\n",
            "32/32 [==============================] - 0s 1ms/step - loss: 19929092096.0000 - mean_absolute_percentage_error: 45.7499\n",
            "Epoch 17/30\n",
            "32/32 [==============================] - 0s 1ms/step - loss: 19893745664.0000 - mean_absolute_percentage_error: 45.4178\n",
            "Epoch 18/30\n",
            "32/32 [==============================] - 0s 1ms/step - loss: 19839703040.0000 - mean_absolute_percentage_error: 45.3515\n",
            "Epoch 19/30\n",
            "32/32 [==============================] - 0s 1ms/step - loss: 19796643840.0000 - mean_absolute_percentage_error: 45.2953\n",
            "Epoch 20/30\n",
            "32/32 [==============================] - 0s 1ms/step - loss: 19751729152.0000 - mean_absolute_percentage_error: 45.1648\n",
            "Epoch 21/30\n",
            "32/32 [==============================] - 0s 2ms/step - loss: 19715661824.0000 - mean_absolute_percentage_error: 45.2304\n",
            "Epoch 22/30\n",
            "32/32 [==============================] - 0s 1ms/step - loss: 19662725120.0000 - mean_absolute_percentage_error: 45.1240\n",
            "Epoch 23/30\n",
            "32/32 [==============================] - 0s 2ms/step - loss: 19650156544.0000 - mean_absolute_percentage_error: 44.9166\n",
            "Epoch 24/30\n",
            "32/32 [==============================] - 0s 1ms/step - loss: 19546892288.0000 - mean_absolute_percentage_error: 44.8874\n",
            "Epoch 25/30\n",
            "32/32 [==============================] - 0s 1ms/step - loss: 19530938368.0000 - mean_absolute_percentage_error: 45.0216\n",
            "Epoch 26/30\n",
            "32/32 [==============================] - 0s 2ms/step - loss: 19477504000.0000 - mean_absolute_percentage_error: 44.9039\n",
            "Epoch 27/30\n",
            "32/32 [==============================] - 0s 1ms/step - loss: 19431290880.0000 - mean_absolute_percentage_error: 44.6927\n",
            "Epoch 28/30\n",
            "32/32 [==============================] - 0s 2ms/step - loss: 19396820992.0000 - mean_absolute_percentage_error: 44.5683\n",
            "Epoch 29/30\n",
            "32/32 [==============================] - 0s 1ms/step - loss: 19360921600.0000 - mean_absolute_percentage_error: 44.5677\n",
            "Epoch 30/30\n",
            "32/32 [==============================] - 0s 1ms/step - loss: 19334006784.0000 - mean_absolute_percentage_error: 44.4858\n"
          ]
        },
        {
          "output_type": "display_data",
          "data": {
            "text/plain": [
              "<Figure size 640x480 with 1 Axes>"
            ],
            "image/png": "[encoded data removed]"
          },
          "metadata": {}
        }
      ],
      "source": [
        "from tensorflow.keras.models import Sequential\n",
        "from tensorflow.keras.layers import Dense\n",
        "from tensorflow.keras.optimizers import Adam\n",
        "import matplotlib.pyplot as plt\n",
        "\n",
        "# Tomar un subconjunto de 1000 datos\n",
        "x_subset = x[:1000]\n",
        "y_subset = y[:1000]\n",
        "\n",
        "# Verificar la forma del subconjunto\n",
        "print(f'Forma de x_subset: {x_subset.shape}')  # Debe mostrar (1000, 9)\n",
        "print(f'Forma de y_subset: {y_subset.shape}')  # Debe mostrar (1000, 1)\n",
        "\n",
        "# Definir la arquitectura de la red\n",
        "model = Sequential([\n",
        "    Dense(8, activation='relu', input_shape=(9,)),  # 9 caracteristicas en la entrada\n",
        "    Dense(8, activation='relu'),\n",
        "    Dense(8, activation='relu'),\n",
        "    Dense(1)  # Capa de salida sin función de activación\n",
        "])\n",
        "\n",
        "# Configuración del optimizador con learning rate personalizado\n",
        "optimizer = Adam(learning_rate=0.001)\n",
        "\n",
        "# Compilar el modelo\n",
        "model.compile(optimizer=optimizer, loss='mean_squared_error', metrics=[actual_loss])\n",
        "\n",
        "# Entrenar el modelo sin validación\n",
        "history = model.fit(x_subset, y_subset, epochs=30)\n",
        "\n",
        "# Visualizar la pérdida y la métrica a lo largo de las epochs\n",
        "plt.plot(history.history['loss'], label='Loss')\n",
        "plt.plot(history.history[actual_loss], label='MAPE')\n",
        "plt.title('Model loss')\n",
        "plt.ylabel('Loss')\n",
        "plt.xlabel('Epoch')\n",
        "plt.legend()\n",
        "plt.show()"
      ]
    },
    {
      "cell_type": "markdown",
      "id": "fdb3cb0e-6ed1-4a13-a391-4166ef00b2ed",
      "metadata": {
        "id": "fdb3cb0e-6ed1-4a13-a391-4166ef00b2ed"
      },
      "source": [
        "### <font color=\"#004D7F\" size=4>Ejercicio 2</font>\n",
        "\n",
        "Vamos a complicar un poco más la arquitectura de la red:\n",
        "\n",
        "- **Configuración de la red**:\n",
        "    - Arquitectura de la red:\n",
        "        - *1º Capa*: capa de entrada donde indiques la dimensión de los datos.\n",
        "        - *2º Capa*: capa densa con 64 neuronas y función de activación *relu*.\n",
        "        - *3º Capa*: capa densa con 32 neuronas y función de activación *relu*.\n",
        "        - *4º Capa*: capa densa con 32 neuronas y función de activación *relu*.\n",
        "        - *5º Capa*: capa de salida con una neurona sin función de activación.\n",
        "        \n",
        "    - Tipo de entrenamiento:\n",
        "        - *Epochs*: 30\n",
        "        - *Optimizador*: *adam*\n",
        "        - *Learning Rate*: 0.001"
      ]
    },
    {
      "cell_type": "code",
      "execution_count": 9,
      "id": "e5c9b03d-ec66-4cfc-bcc5-8502b0bf6250",
      "metadata": {
        "colab": {
          "base_uri": "https://localhost:8080/",
          "height": 1323
        },
        "id": "e5c9b03d-ec66-4cfc-bcc5-8502b0bf6250",
        "outputId": "fa028a41-7c46-4a53-dd17-c37965cee17e"
      },
      "outputs": [
        {
          "output_type": "stream",
          "name": "stdout",
          "text": [
            "Forma de x_subset: (1000, 9)\n",
            "Forma de y_subset: (1000, 1)\n",
            "Epoch 1/30\n",
            "32/32 [==============================] - 1s 5ms/step - loss: 51523948544.0000 - mean_absolute_percentage_error: 99.6255\n",
            "Epoch 2/30\n",
            "32/32 [==============================] - 0s 5ms/step - loss: 47855362048.0000 - mean_absolute_percentage_error: 95.2126\n",
            "Epoch 3/30\n",
            "32/32 [==============================] - 0s 5ms/step - loss: 29147574272.0000 - mean_absolute_percentage_error: 66.1206\n",
            "Epoch 4/30\n",
            "32/32 [==============================] - 0s 7ms/step - loss: 20721080320.0000 - mean_absolute_percentage_error: 45.5886\n",
            "Epoch 5/30\n",
            "32/32 [==============================] - 0s 4ms/step - loss: 20028768256.0000 - mean_absolute_percentage_error: 45.1891\n",
            "Epoch 6/30\n",
            "32/32 [==============================] - 0s 4ms/step - loss: 19897458688.0000 - mean_absolute_percentage_error: 44.6055\n",
            "Epoch 7/30\n",
            "32/32 [==============================] - 0s 3ms/step - loss: 19813660672.0000 - mean_absolute_percentage_error: 45.0702\n",
            "Epoch 8/30\n",
            "32/32 [==============================] - 0s 4ms/step - loss: 19303178240.0000 - mean_absolute_percentage_error: 44.2022\n",
            "Epoch 9/30\n",
            "32/32 [==============================] - 0s 6ms/step - loss: 18734690304.0000 - mean_absolute_percentage_error: 43.2873\n",
            "Epoch 10/30\n",
            "32/32 [==============================] - 0s 4ms/step - loss: 18518872064.0000 - mean_absolute_percentage_error: 42.8480\n",
            "Epoch 11/30\n",
            "32/32 [==============================] - 0s 4ms/step - loss: 18157881344.0000 - mean_absolute_percentage_error: 41.9163\n",
            "Epoch 12/30\n",
            "32/32 [==============================] - 0s 4ms/step - loss: 17591359488.0000 - mean_absolute_percentage_error: 41.5679\n",
            "Epoch 13/30\n",
            "32/32 [==============================] - 0s 3ms/step - loss: 17527275520.0000 - mean_absolute_percentage_error: 40.3068\n",
            "Epoch 14/30\n",
            "32/32 [==============================] - 0s 4ms/step - loss: 16996946944.0000 - mean_absolute_percentage_error: 40.9643\n",
            "Epoch 15/30\n",
            "32/32 [==============================] - 0s 4ms/step - loss: 15904744448.0000 - mean_absolute_percentage_error: 39.0161\n",
            "Epoch 16/30\n",
            "32/32 [==============================] - 0s 4ms/step - loss: 15287077888.0000 - mean_absolute_percentage_error: 38.1480\n",
            "Epoch 17/30\n",
            "32/32 [==============================] - 0s 5ms/step - loss: 14464090112.0000 - mean_absolute_percentage_error: 37.0840\n",
            "Epoch 18/30\n",
            "32/32 [==============================] - 0s 4ms/step - loss: 13563334656.0000 - mean_absolute_percentage_error: 36.5357\n",
            "Epoch 19/30\n",
            "32/32 [==============================] - 0s 6ms/step - loss: 12585275392.0000 - mean_absolute_percentage_error: 35.0978\n",
            "Epoch 20/30\n",
            "32/32 [==============================] - 0s 4ms/step - loss: 11528358912.0000 - mean_absolute_percentage_error: 34.9053\n",
            "Epoch 21/30\n",
            "32/32 [==============================] - 0s 2ms/step - loss: 10473871360.0000 - mean_absolute_percentage_error: 33.5154\n",
            "Epoch 22/30\n",
            "32/32 [==============================] - 0s 2ms/step - loss: 9666438144.0000 - mean_absolute_percentage_error: 33.1062\n",
            "Epoch 23/30\n",
            "32/32 [==============================] - 0s 2ms/step - loss: 8523364352.0000 - mean_absolute_percentage_error: 33.2673\n",
            "Epoch 24/30\n",
            "32/32 [==============================] - 0s 2ms/step - loss: 7775549440.0000 - mean_absolute_percentage_error: 33.2483\n",
            "Epoch 25/30\n",
            "32/32 [==============================] - 0s 2ms/step - loss: 7245655552.0000 - mean_absolute_percentage_error: 33.7058\n",
            "Epoch 26/30\n",
            "32/32 [==============================] - 0s 2ms/step - loss: 6818418688.0000 - mean_absolute_percentage_error: 33.5241\n",
            "Epoch 27/30\n",
            "32/32 [==============================] - 0s 2ms/step - loss: 6465892352.0000 - mean_absolute_percentage_error: 33.3555\n",
            "Epoch 28/30\n",
            "32/32 [==============================] - 0s 2ms/step - loss: 6216792064.0000 - mean_absolute_percentage_error: 33.6923\n",
            "Epoch 29/30\n",
            "32/32 [==============================] - 0s 2ms/step - loss: 6067637248.0000 - mean_absolute_percentage_error: 33.9990\n",
            "Epoch 30/30\n",
            "32/32 [==============================] - 0s 2ms/step - loss: 5937346560.0000 - mean_absolute_percentage_error: 33.3569\n"
          ]
        },
        {
          "output_type": "display_data",
          "data": {
            "text/plain": [
              "<Figure size 640x480 with 1 Axes>"
            ],
            "image/png": "[encoded data removed]"
          },
          "metadata": {}
        }
      ],
      "source": [
        "from tensorflow.keras.models import Sequential\n",
        "from tensorflow.keras.layers import Dense\n",
        "from tensorflow.keras.optimizers import Adam\n",
        "import matplotlib.pyplot as plt\n",
        "\n",
        "# Tomar un subconjunto de 1000 datos\n",
        "x_subset = x[:1000]\n",
        "y_subset = y[:1000]\n",
        "\n",
        "# Verificar la forma del subconjunto\n",
        "print(f'Forma de x_subset: {x_subset.shape}')  # Debe mostrar (1000, 9)\n",
        "print(f'Forma de y_subset: {y_subset.shape}')  # Debe mostrar (1000, 1)\n",
        "\n",
        "# Definir la arquitectura de la red\n",
        "model = Sequential([\n",
        "    Dense(64, activation='relu', input_shape=(9,)),  # 9 caracteristicas en la entrada\n",
        "    Dense(64, activation='relu'),\n",
        "    Dense(32, activation='relu'),\n",
        "    Dense(32, activation='relu'),\n",
        "    Dense(1)  # Capa de salida sin función de activación\n",
        "])\n",
        "\n",
        "# Configuración del optimizador con learning rate personalizado\n",
        "optimizer = Adam(learning_rate=0.001)\n",
        "\n",
        "# Compilar el modelo\n",
        "model.compile(optimizer=optimizer, loss='mean_squared_error', metrics=[actual_loss])\n",
        "\n",
        "# Entrenar el modelo sin validación\n",
        "history = model.fit(x_subset, y_subset, epochs=30)\n",
        "\n",
        "# Visualizar la pérdida y la métrica a lo largo de las epochs\n",
        "plt.plot(history.history['loss'], label='Loss')\n",
        "plt.plot(history.history[actual_loss], label='MAPE')\n",
        "plt.title('Model loss')\n",
        "plt.ylabel('Loss')\n",
        "plt.xlabel('Epoch')\n",
        "plt.legend()\n",
        "plt.show()"
      ]
    },
    {
      "cell_type": "markdown",
      "id": "5a95d5de-4044-46f0-a5c1-18e9a1514c55",
      "metadata": {
        "id": "5a95d5de-4044-46f0-a5c1-18e9a1514c55"
      },
      "source": [
        "### <font color=\"#004D7F\" size=4>Ejercicio 3</font>\n",
        "\n",
        "Vamos a complicar aun más la arquitectura de la red:\n",
        "\n",
        "- **Configuración de la red**:\n",
        "    - Arquitectura de la red:\n",
        "        - *1º Capa*: capa de entrada donde indiques la dimensión de los datos.\n",
        "        - *2º Capa*: capa densa con 128 neuronas y función de activación *relu*.\n",
        "        - *3º Capa*: capa densa con 64 neuronas y función de activación *relu*.\n",
        "        - *4º Capa*: capa densa con 32 neuronas y función de activación *relu*.\n",
        "        - *5º Capa*: capa densa con 16 neuronas y función de activación *relu*.\n",
        "        - *6º Capa*: capa de salida con una neurona sin función de activación.\n",
        "        \n",
        "    - Tipo de entrenamiento:\n",
        "        - *Epochs*: 30\n",
        "        - *Optimizador*: *adam*\n",
        "        - *Learning Rate*: 0.001"
      ]
    },
    {
      "cell_type": "code",
      "execution_count": 10,
      "id": "038f48ba-ed0f-44d1-a57c-ceca899347af",
      "metadata": {
        "colab": {
          "base_uri": "https://localhost:8080/",
          "height": 1323
        },
        "id": "038f48ba-ed0f-44d1-a57c-ceca899347af",
        "outputId": "5e32b444-1844-4bb4-8d0e-7112f560fb57"
      },
      "outputs": [
        {
          "output_type": "stream",
          "name": "stdout",
          "text": [
            "Forma de x_subset: (1000, 9)\n",
            "Forma de y_subset: (1000, 1)\n",
            "Epoch 1/30\n",
            "32/32 [==============================] - 1s 3ms/step - loss: 50329382912.0000 - mean_absolute_percentage_error: 98.1986\n",
            "Epoch 2/30\n",
            "32/32 [==============================] - 0s 2ms/step - loss: 28636747776.0000 - mean_absolute_percentage_error: 64.2772\n",
            "Epoch 3/30\n",
            "32/32 [==============================] - 0s 3ms/step - loss: 22679760896.0000 - mean_absolute_percentage_error: 48.2806\n",
            "Epoch 4/30\n",
            "32/32 [==============================] - 0s 2ms/step - loss: 19759030272.0000 - mean_absolute_percentage_error: 44.8431\n",
            "Epoch 5/30\n",
            "32/32 [==============================] - 0s 2ms/step - loss: 20394412032.0000 - mean_absolute_percentage_error: 44.0854\n",
            "Epoch 6/30\n",
            "32/32 [==============================] - 0s 2ms/step - loss: 18878609408.0000 - mean_absolute_percentage_error: 42.6183\n",
            "Epoch 7/30\n",
            "32/32 [==============================] - 0s 2ms/step - loss: 18137888768.0000 - mean_absolute_percentage_error: 42.0696\n",
            "Epoch 8/30\n",
            "32/32 [==============================] - 0s 2ms/step - loss: 17333305344.0000 - mean_absolute_percentage_error: 41.1000\n",
            "Epoch 9/30\n",
            "32/32 [==============================] - 0s 2ms/step - loss: 15962054656.0000 - mean_absolute_percentage_error: 39.3269\n",
            "Epoch 10/30\n",
            "32/32 [==============================] - 0s 2ms/step - loss: 15051264000.0000 - mean_absolute_percentage_error: 37.3267\n",
            "Epoch 11/30\n",
            "32/32 [==============================] - 0s 2ms/step - loss: 12956987392.0000 - mean_absolute_percentage_error: 35.8176\n",
            "Epoch 12/30\n",
            "32/32 [==============================] - 0s 2ms/step - loss: 11115940864.0000 - mean_absolute_percentage_error: 34.6416\n",
            "Epoch 13/30\n",
            "32/32 [==============================] - 0s 2ms/step - loss: 9137392640.0000 - mean_absolute_percentage_error: 34.1790\n",
            "Epoch 14/30\n",
            "32/32 [==============================] - 0s 2ms/step - loss: 7668426752.0000 - mean_absolute_percentage_error: 34.0562\n",
            "Epoch 15/30\n",
            "32/32 [==============================] - 0s 2ms/step - loss: 6765725696.0000 - mean_absolute_percentage_error: 33.9266\n",
            "Epoch 16/30\n",
            "32/32 [==============================] - 0s 2ms/step - loss: 6164880384.0000 - mean_absolute_percentage_error: 34.0589\n",
            "Epoch 17/30\n",
            "32/32 [==============================] - 0s 2ms/step - loss: 6017870336.0000 - mean_absolute_percentage_error: 32.3215\n",
            "Epoch 18/30\n",
            "32/32 [==============================] - 0s 3ms/step - loss: 5708331008.0000 - mean_absolute_percentage_error: 33.6301\n",
            "Epoch 19/30\n",
            "32/32 [==============================] - 0s 2ms/step - loss: 5509882368.0000 - mean_absolute_percentage_error: 32.4618\n",
            "Epoch 20/30\n",
            "32/32 [==============================] - 0s 2ms/step - loss: 5387217408.0000 - mean_absolute_percentage_error: 31.0607\n",
            "Epoch 21/30\n",
            "32/32 [==============================] - 0s 2ms/step - loss: 5200121344.0000 - mean_absolute_percentage_error: 31.6697\n",
            "Epoch 22/30\n",
            "32/32 [==============================] - 0s 2ms/step - loss: 5486932480.0000 - mean_absolute_percentage_error: 30.9575\n",
            "Epoch 23/30\n",
            "32/32 [==============================] - 0s 2ms/step - loss: 5056538112.0000 - mean_absolute_percentage_error: 30.8191\n",
            "Epoch 24/30\n",
            "32/32 [==============================] - 0s 2ms/step - loss: 4899420672.0000 - mean_absolute_percentage_error: 30.2300\n",
            "Epoch 25/30\n",
            "32/32 [==============================] - 0s 2ms/step - loss: 4928071168.0000 - mean_absolute_percentage_error: 30.6684\n",
            "Epoch 26/30\n",
            "32/32 [==============================] - 0s 3ms/step - loss: 4775120384.0000 - mean_absolute_percentage_error: 30.0195\n",
            "Epoch 27/30\n",
            "32/32 [==============================] - 0s 2ms/step - loss: 4761069056.0000 - mean_absolute_percentage_error: 29.8552\n",
            "Epoch 28/30\n",
            "32/32 [==============================] - 0s 2ms/step - loss: 4646961152.0000 - mean_absolute_percentage_error: 29.2341\n",
            "Epoch 29/30\n",
            "32/32 [==============================] - 0s 2ms/step - loss: 4616549888.0000 - mean_absolute_percentage_error: 29.7613\n",
            "Epoch 30/30\n",
            "32/32 [==============================] - 0s 2ms/step - loss: 4508889600.0000 - mean_absolute_percentage_error: 29.4529\n"
          ]
        },
        {
          "output_type": "display_data",
          "data": {
            "text/plain": [
              "<Figure size 640x480 with 1 Axes>"
            ],
            "image/png": "[encoded data removed]"
          },
          "metadata": {}
        }
      ],
      "source": [
        "from tensorflow.keras.models import Sequential\n",
        "from tensorflow.keras.layers import Dense\n",
        "from tensorflow.keras.optimizers import Adam\n",
        "import matplotlib.pyplot as plt\n",
        "\n",
        "# Tomar un subconjunto de 1000 datos\n",
        "x_subset = x[:1000]\n",
        "y_subset = y[:1000]\n",
        "\n",
        "# Verificar la forma del subconjunto\n",
        "print(f'Forma de x_subset: {x_subset.shape}')  # Debe mostrar (1000, 9)\n",
        "print(f'Forma de y_subset: {y_subset.shape}')  # Debe mostrar (1000, 1)\n",
        "\n",
        "# Definir la arquitectura de la red\n",
        "model = Sequential([\n",
        "    Dense(128, activation='relu', input_shape=(9,)),  # 9 caracteristicas en la entrada\n",
        "    Dense(128, activation='relu'),\n",
        "    Dense(64, activation='relu'),\n",
        "    Dense(32, activation='relu'),\n",
        "    Dense(16, activation='relu'),\n",
        "    Dense(1)  # Capa de salida sin función de activación\n",
        "])\n",
        "\n",
        "# Configuración del optimizador con learning rate personalizado\n",
        "optimizer = Adam(learning_rate=0.001)\n",
        "\n",
        "# Compilar el modelo\n",
        "model.compile(optimizer=optimizer, loss='mean_squared_error', metrics=[actual_loss])\n",
        "\n",
        "# Entrenar el modelo sin validación\n",
        "history = model.fit(x_subset, y_subset, epochs=30)\n",
        "\n",
        "# Visualizar la pérdida y la métrica a lo largo de las epochs\n",
        "plt.plot(history.history['loss'], label='Loss')\n",
        "plt.plot(history.history[actual_loss], label='MAPE')\n",
        "plt.title('Model loss')\n",
        "plt.ylabel('Loss')\n",
        "plt.xlabel('Epoch')\n",
        "plt.legend()\n",
        "plt.show()"
      ]
    },
    {
      "cell_type": "markdown",
      "id": "16c6b16e-38c3-4535-a833-6c7f30195d97",
      "metadata": {
        "id": "16c6b16e-38c3-4535-a833-6c7f30195d97"
      },
      "source": [
        "### <font color=\"#004D7F\" size=4>Ejercicio 4</font>\n",
        "\n",
        "Vamos a hacer una última red con más capas y neuronas:\n",
        "\n",
        "- **Configuración de la red**:\n",
        "    - Arquitectura de la red:\n",
        "        - *1º Capa*: capa de entrada donde indiques la dimensión de los datos.\n",
        "        - *2º Capa*: capa densa con 1024 neuronas y función de activación *relu*.\n",
        "        - *3º Capa*: capa densa con 512 neuronas y función de activación *relu*.\n",
        "        - *4º Capa*: capa densa con 256 neuronas y función de activación *relu*.\n",
        "        - *5º Capa*: capa densa con 128 neuronas y función de activación *relu*.\n",
        "        - *6º Capa*: capa densa con 64 neuronas y función de activación *relu*.\n",
        "        - *7º Capa*: capa densa con 32 neuronas y función de activación *relu*.\n",
        "        - *8º Capa*: capa densa con 16 neuronas y función de activación *relu*.\n",
        "        - *9º Capa*: capa de salida con una neurona sin función de activación.\n",
        "        \n",
        "    - Tipo de entrenamiento:\n",
        "        - *Epochs*: 30\n",
        "        - *Optimizador*: *adam*\n",
        "        - *Learning Rate*: 0.001"
      ]
    },
    {
      "cell_type": "code",
      "execution_count": 11,
      "id": "a734f432-b266-41e3-8b57-1cffdd59a8d9",
      "metadata": {
        "colab": {
          "base_uri": "https://localhost:8080/",
          "height": 1318
        },
        "id": "a734f432-b266-41e3-8b57-1cffdd59a8d9",
        "outputId": "f2e73462-39e1-4595-a244-c72b28790f66"
      },
      "outputs": [
        {
          "output_type": "stream",
          "name": "stdout",
          "text": [
            "Forma de x_subset: (1000, 9)\n",
            "Forma de y_subset: (1000, 1)\n",
            "Epoch 1/30\n",
            "32/32 [==============================] - 4s 57ms/step - loss: 34544246784.0000 - mean_absolute_percentage_error: 70.7131\n",
            "Epoch 2/30\n",
            "32/32 [==============================] - 2s 49ms/step - loss: 20856870912.0000 - mean_absolute_percentage_error: 46.5397\n",
            "Epoch 3/30\n",
            "32/32 [==============================] - 1s 33ms/step - loss: 18447144960.0000 - mean_absolute_percentage_error: 42.5053\n",
            "Epoch 4/30\n",
            "32/32 [==============================] - 1s 33ms/step - loss: 15061788672.0000 - mean_absolute_percentage_error: 38.1363\n",
            "Epoch 5/30\n",
            "32/32 [==============================] - 1s 32ms/step - loss: 9752365056.0000 - mean_absolute_percentage_error: 34.1526\n",
            "Epoch 6/30\n",
            "32/32 [==============================] - 1s 32ms/step - loss: 6219945984.0000 - mean_absolute_percentage_error: 34.7626\n",
            "Epoch 7/30\n",
            "32/32 [==============================] - 1s 31ms/step - loss: 5593903616.0000 - mean_absolute_percentage_error: 32.1584\n",
            "Epoch 8/30\n",
            "32/32 [==============================] - 1s 32ms/step - loss: 5302559744.0000 - mean_absolute_percentage_error: 31.0659\n",
            "Epoch 9/30\n",
            "32/32 [==============================] - 2s 48ms/step - loss: 7196637696.0000 - mean_absolute_percentage_error: 35.5893\n",
            "Epoch 10/30\n",
            "32/32 [==============================] - 1s 44ms/step - loss: 5011939840.0000 - mean_absolute_percentage_error: 30.8375\n",
            "Epoch 11/30\n",
            "32/32 [==============================] - 1s 31ms/step - loss: 4700923904.0000 - mean_absolute_percentage_error: 30.4473\n",
            "Epoch 12/30\n",
            "32/32 [==============================] - 1s 33ms/step - loss: 5135713792.0000 - mean_absolute_percentage_error: 29.2256\n",
            "Epoch 13/30\n",
            "32/32 [==============================] - 1s 31ms/step - loss: 4539477504.0000 - mean_absolute_percentage_error: 29.8375\n",
            "Epoch 14/30\n",
            "32/32 [==============================] - 1s 30ms/step - loss: 4482720256.0000 - mean_absolute_percentage_error: 26.8623\n",
            "Epoch 15/30\n",
            "32/32 [==============================] - 1s 29ms/step - loss: 4363218432.0000 - mean_absolute_percentage_error: 27.4970\n",
            "Epoch 16/30\n",
            "32/32 [==============================] - 1s 31ms/step - loss: 3988401920.0000 - mean_absolute_percentage_error: 27.6723\n",
            "Epoch 17/30\n",
            "32/32 [==============================] - 1s 38ms/step - loss: 3800448256.0000 - mean_absolute_percentage_error: 25.4545\n",
            "Epoch 18/30\n",
            "32/32 [==============================] - 2s 53ms/step - loss: 4314162688.0000 - mean_absolute_percentage_error: 27.3082\n",
            "Epoch 19/30\n",
            "32/32 [==============================] - 1s 40ms/step - loss: 3697019392.0000 - mean_absolute_percentage_error: 25.2342\n",
            "Epoch 20/30\n",
            "32/32 [==============================] - 1s 40ms/step - loss: 3474530816.0000 - mean_absolute_percentage_error: 24.8790\n",
            "Epoch 21/30\n",
            "32/32 [==============================] - 1s 38ms/step - loss: 3928177152.0000 - mean_absolute_percentage_error: 25.6190\n",
            "Epoch 22/30\n",
            "32/32 [==============================] - 1s 31ms/step - loss: 3362529280.0000 - mean_absolute_percentage_error: 23.6583\n",
            "Epoch 23/30\n",
            "32/32 [==============================] - 1s 31ms/step - loss: 3263852032.0000 - mean_absolute_percentage_error: 23.3785\n",
            "Epoch 24/30\n",
            "32/32 [==============================] - 1s 29ms/step - loss: 3292742912.0000 - mean_absolute_percentage_error: 23.0548\n",
            "Epoch 25/30\n",
            "32/32 [==============================] - 1s 27ms/step - loss: 3222819328.0000 - mean_absolute_percentage_error: 22.8207\n",
            "Epoch 26/30\n",
            "32/32 [==============================] - 1s 30ms/step - loss: 3380383232.0000 - mean_absolute_percentage_error: 24.1747\n",
            "Epoch 27/30\n",
            "32/32 [==============================] - 1s 31ms/step - loss: 3159685376.0000 - mean_absolute_percentage_error: 22.8564\n",
            "Epoch 28/30\n",
            "32/32 [==============================] - 1s 29ms/step - loss: 3175408128.0000 - mean_absolute_percentage_error: 23.2606\n",
            "Epoch 29/30\n",
            "32/32 [==============================] - 1s 40ms/step - loss: 3081431040.0000 - mean_absolute_percentage_error: 22.1047\n",
            "Epoch 30/30\n",
            "32/32 [==============================] - 1s 42ms/step - loss: 3138644480.0000 - mean_absolute_percentage_error: 23.0756\n"
          ]
        },
        {
          "output_type": "display_data",
          "data": {
            "text/plain": [
              "<Figure size 640x480 with 1 Axes>"
            ],
            "image/png": "[encoded data removed]"
          },
          "metadata": {}
        }
      ],
      "source": [
        "from tensorflow.keras.models import Sequential\n",
        "from tensorflow.keras.layers import Dense\n",
        "from tensorflow.keras.optimizers import Adam\n",
        "import matplotlib.pyplot as plt\n",
        "\n",
        "# Tomar un subconjunto de 1000 datos\n",
        "x_subset = x[:1000]\n",
        "y_subset = y[:1000]\n",
        "\n",
        "# Verificar la forma del subconjunto\n",
        "print(f'Forma de x_subset: {x_subset.shape}')  # Debe mostrar (1000, 9)\n",
        "print(f'Forma de y_subset: {y_subset.shape}')  # Debe mostrar (1000, 1)\n",
        "\n",
        "# Definir la arquitectura de la red\n",
        "model = Sequential([\n",
        "    Dense(1024, activation='relu', input_shape=(9,)),  # 9 caracteristicas en la entrada\n",
        "    Dense(1024, activation='relu'),\n",
        "    Dense(512, activation='relu'),\n",
        "    Dense(256, activation='relu'),\n",
        "    Dense(128, activation='relu'),\n",
        "    Dense(64, activation='relu'),\n",
        "    Dense(32, activation='relu'),\n",
        "    Dense(16, activation='relu'),\n",
        "    Dense(1)  # Capa de salida sin función de activación\n",
        "])\n",
        "\n",
        "# Configuración del optimizador con learning rate personalizado\n",
        "optimizer = Adam(learning_rate=0.001)\n",
        "\n",
        "# Compilar el modelo\n",
        "model.compile(optimizer=optimizer, loss='mean_squared_error', metrics=[actual_loss])\n",
        "\n",
        "# Entrenar el modelo sin validación\n",
        "history = model.fit(x_subset, y_subset, epochs=30)\n",
        "\n",
        "# Visualizar la pérdida y la métrica a lo largo de las epochs\n",
        "plt.plot(history.history['loss'], label='Loss')\n",
        "plt.plot(history.history[actual_loss], label='MAPE')\n",
        "plt.title('Model loss')\n",
        "plt.ylabel('Loss')\n",
        "plt.xlabel('Epoch')\n",
        "plt.legend()\n",
        "plt.show()"
      ]
    },
    {
      "cell_type": "markdown",
      "id": "22d5229a-67db-44b9-ace7-a7878b6ca373",
      "metadata": {
        "id": "22d5229a-67db-44b9-ace7-a7878b6ca373"
      },
      "source": [
        "### <font color=\"#004D7F\" size=4>Ejercicio 5</font>\n",
        "Compara los resultados obtenidos en cada una de las arquitecturas definidas y quédate con la mejor. **¿En qué experimento se obtiene los mejores resultados?**\n",
        "\n",
        "La arquitectura elegida la usaremos en el caso práctico para seguir ajustando nuestro modelo y alcanzar un buen rendimiento."
      ]
    },
    {
      "cell_type": "code",
      "execution_count": null,
      "id": "2b9e81cc-be41-4c4e-ac75-13aad86300ca",
      "metadata": {
        "id": "2b9e81cc-be41-4c4e-ac75-13aad86300ca"
      },
      "outputs": [],
      "source": [
        "# En la arquitectura del ejercicio 4 hemos logrado un mean_absolut_percentage_error menor de hasta 22.36%"
      ]
    },
    {
      "cell_type": "markdown",
      "id": "2f38ec3e-3d9e-4b52-a9c2-40a4f8857e6f",
      "metadata": {
        "id": "2f38ec3e-3d9e-4b52-a9c2-40a4f8857e6f"
      },
      "source": [
        "## 3. Elegimos un Optimizer."
      ]
    },
    {
      "cell_type": "markdown",
      "id": "ed8c324c-5701-442e-9127-e1891e88e475",
      "metadata": {
        "id": "ed8c324c-5701-442e-9127-e1891e88e475"
      },
      "source": [
        "Hemos establecido Adam en los entrenamientos anteriores. Vamos a comprobarlo para el conjunto de validación como funciona y después probaremos a usar un optimizador SGD."
      ]
    },
    {
      "cell_type": "markdown",
      "id": "17f6353c-328c-46ab-8b48-53ad5da43948",
      "metadata": {
        "tags": [],
        "id": "17f6353c-328c-46ab-8b48-53ad5da43948"
      },
      "source": [
        "### <font color=\"#004D7F\" size=4>Ejercicio 6</font>\n",
        "\n",
        "Usa la mejor arquitectura y configuración de entrenamiento de los ejercicios anteriores y entrena con la siguiente configuración:\n",
        "\n",
        "- Usa un `validation_split` de 0.2\n",
        "- Utiliza todos los datos y no solo 1000.\n",
        "- Usa 5 epochs en total."
      ]
    },
    {
      "cell_type": "code",
      "execution_count": 12,
      "id": "7bdad0c5-e32f-42c3-a00b-8adae93b2997",
      "metadata": {
        "colab": {
          "base_uri": "https://localhost:8080/",
          "height": 700
        },
        "id": "7bdad0c5-e32f-42c3-a00b-8adae93b2997",
        "outputId": "17f86ed7-b98d-4c2a-8aef-ae291c65c5cb"
      },
      "outputs": [
        {
          "output_type": "stream",
          "name": "stdout",
          "text": [
            "Forma de x: (20433, 9)\n",
            "Forma de y: (20433, 1)\n",
            "Epoch 1/5\n",
            "511/511 [==============================] - 19s 34ms/step - loss: 15853680640.0000 - mape: 55.8148 - val_loss: 11864811520.0000 - val_mape: 52.1934\n",
            "Epoch 2/5\n",
            "511/511 [==============================] - 19s 36ms/step - loss: 8744710144.0000 - mape: 48.7968 - val_loss: 9215635456.0000 - val_mape: 47.5852\n",
            "Epoch 3/5\n",
            "511/511 [==============================] - 19s 37ms/step - loss: 7468453888.0000 - mape: 43.3137 - val_loss: 8323838976.0000 - val_mape: 42.0422\n",
            "Epoch 4/5\n",
            "511/511 [==============================] - 24s 47ms/step - loss: 6914264576.0000 - mape: 40.5780 - val_loss: 7283291136.0000 - val_mape: 41.1496\n",
            "Epoch 5/5\n",
            "511/511 [==============================] - 16s 32ms/step - loss: 6398703616.0000 - mape: 38.5421 - val_loss: 7948554240.0000 - val_mape: 34.9236\n"
          ]
        },
        {
          "output_type": "display_data",
          "data": {
            "text/plain": [
              "<Figure size 640x480 with 1 Axes>"
            ],
            "image/png": "[encoded data removed]"
          },
          "metadata": {}
        }
      ],
      "source": [
        "from tensorflow.keras.models import Sequential\n",
        "from tensorflow.keras.layers import Dense\n",
        "from tensorflow.keras.optimizers import Adam\n",
        "import matplotlib.pyplot as plt\n",
        "\n",
        "# Usar todos los datos disponibles\n",
        "\n",
        "# Verificar la forma de los datos completos\n",
        "print(f'Forma de x: {x.shape}')\n",
        "print(f'Forma de y: {y.shape}')\n",
        "\n",
        "# Definir la arquitectura de la red\n",
        "model = Sequential([\n",
        "    Dense(1024, activation='relu', input_shape=(9,)),\n",
        "    Dense(1024, activation='relu'),\n",
        "    Dense(512, activation='relu'),\n",
        "    Dense(256, activation='relu'),\n",
        "    Dense(128, activation='relu'),\n",
        "    Dense(64, activation='relu'),\n",
        "    Dense(32, activation='relu'),\n",
        "    Dense(16, activation='relu'),\n",
        "    Dense(1)  # Capa de salida sin función de activación\n",
        "])\n",
        "\n",
        "# Configuración del optimizador con learning rate personalizado\n",
        "optimizer = Adam(learning_rate=0.001)\n",
        "\n",
        "# Compilar el modelo\n",
        "model.compile(optimizer=optimizer, loss='mean_squared_error', metrics=['mape'])\n",
        "\n",
        "# Entrenar el modelo con validación\n",
        "history = model.fit(x, y, epochs=5, validation_split=0.2)\n",
        "\n",
        "# Visualizar la pérdida y la métrica a lo largo de las epochs\n",
        "plt.plot(history.history['loss'], label='Loss')\n",
        "plt.plot(history.history['val_loss'], label='Validation Loss')\n",
        "plt.plot(history.history['mape'], label='MAPE')\n",
        "plt.plot(history.history['val_mape'], label='Validation MAPE')\n",
        "plt.title('Model loss')\n",
        "plt.ylabel('Loss / MAPE')\n",
        "plt.xlabel('Epoch')\n",
        "plt.legend()\n",
        "plt.show()\n"
      ]
    },
    {
      "cell_type": "markdown",
      "id": "56a927c1-3ca7-431a-90d1-e9554c0d6dcb",
      "metadata": {
        "tags": [],
        "id": "56a927c1-3ca7-431a-90d1-e9554c0d6dcb"
      },
      "source": [
        "### <font color=\"#004D7F\" size=4>Ejercicio 7</font>\n",
        "\n",
        "Realiza el mismo entrenamiento que el ejercicio anterior pero usa un optimizador **SGD** en lugar de un Adam."
      ]
    },
    {
      "cell_type": "code",
      "execution_count": 13,
      "id": "8ca696c2-cdce-4391-9d81-20d768bf0537",
      "metadata": {
        "colab": {
          "base_uri": "https://localhost:8080/",
          "height": 700
        },
        "id": "8ca696c2-cdce-4391-9d81-20d768bf0537",
        "outputId": "1548754f-fb77-4203-cf6f-6e45c1ed78c5"
      },
      "outputs": [
        {
          "output_type": "stream",
          "name": "stdout",
          "text": [
            "Forma de x: (20433, 9)\n",
            "Forma de y: (20433, 1)\n",
            "Epoch 1/5\n",
            "511/511 [==============================] - 16s 31ms/step - loss: nan - mape: nan - val_loss: nan - val_mape: nan\n",
            "Epoch 2/5\n",
            "511/511 [==============================] - 14s 28ms/step - loss: nan - mape: nan - val_loss: nan - val_mape: nan\n",
            "Epoch 3/5\n",
            "511/511 [==============================] - 15s 29ms/step - loss: nan - mape: nan - val_loss: nan - val_mape: nan\n",
            "Epoch 4/5\n",
            "511/511 [==============================] - 14s 27ms/step - loss: nan - mape: nan - val_loss: nan - val_mape: nan\n",
            "Epoch 5/5\n",
            "511/511 [==============================] - 16s 32ms/step - loss: nan - mape: nan - val_loss: nan - val_mape: nan\n"
          ]
        },
        {
          "output_type": "display_data",
          "data": {
            "text/plain": [
              "<Figure size 640x480 with 1 Axes>"
            ],
            "image/png": "[encoded data removed]"
          },
          "metadata": {}
        }
      ],
      "source": [
        "import tensorflow as tf\n",
        "from tensorflow.keras.models import Sequential\n",
        "from tensorflow.keras.layers import Dense\n",
        "from tensorflow.keras.optimizers import SGD\n",
        "import matplotlib.pyplot as plt\n",
        "\n",
        "# Usar todos los datos disponibles\n",
        "\n",
        "# Verificar la forma de los datos completos\n",
        "print(f'Forma de x: {x.shape}')\n",
        "print(f'Forma de y: {y.shape}')\n",
        "\n",
        "# Definir la arquitectura de la red\n",
        "model = Sequential([\n",
        "    Dense(1024, activation='relu', input_shape=(9,)),\n",
        "    Dense(1024, activation='relu'),\n",
        "    Dense(512, activation='relu'),\n",
        "    Dense(256, activation='relu'),\n",
        "    Dense(128, activation='relu'),\n",
        "    Dense(64, activation='relu'),\n",
        "    Dense(32, activation='relu'),\n",
        "    Dense(16, activation='relu'),\n",
        "    Dense(1)  # Capa de salida sin función de activación\n",
        "])\n",
        "\n",
        "# Configuración del optimizador con learning rate personalizado\n",
        "optimizer = SGD(learning_rate=0.001)\n",
        "\n",
        "# Compilar el modelo\n",
        "model.compile(optimizer=optimizer, loss='mean_squared_error', metrics=['mape'])\n",
        "\n",
        "# Entrenar el modelo con validación\n",
        "history = model.fit(x, y, epochs=5, validation_split=0.2)\n",
        "\n",
        "# Visualizar la pérdida y la métrica a lo largo de las epochs\n",
        "plt.plot(history.history['loss'], label='Loss')\n",
        "plt.plot(history.history['val_loss'], label='Validation Loss')\n",
        "plt.plot(history.history['mape'], label='MAPE')\n",
        "plt.plot(history.history['val_mape'], label='Validation MAPE')\n",
        "plt.title('Model loss')\n",
        "plt.ylabel('Loss / MAPE')\n",
        "plt.xlabel('Epoch')\n",
        "plt.legend()\n",
        "plt.show()"
      ]
    },
    {
      "cell_type": "markdown",
      "id": "e1964d40-54a1-4b33-83d0-f0102ffbc267",
      "metadata": {
        "tags": [],
        "id": "e1964d40-54a1-4b33-83d0-f0102ffbc267"
      },
      "source": [
        "### <font color=\"#004D7F\" size=4>Ejercicio 8</font>\n",
        "\n",
        "**¿Qué optimizador ha funcionado mejor?**\n",
        "\n",
        "El optimizador que eligas tendrás que usarlo en los siguientes ejercicios."
      ]
    },
    {
      "cell_type": "code",
      "execution_count": null,
      "id": "32229090-7024-40f9-80f5-95692adbce58",
      "metadata": {
        "id": "32229090-7024-40f9-80f5-95692adbce58"
      },
      "outputs": [],
      "source": [
        "# Me quedaré con Adam ya que SGD no me arrojó resultados sobre los errores cuando entiendo debería de hacerlo por lo cual"
      ]
    },
    {
      "cell_type": "markdown",
      "id": "77b03e79-c55c-48dd-815b-26536ed2923d",
      "metadata": {
        "id": "77b03e79-c55c-48dd-815b-26536ed2923d"
      },
      "source": [
        "## 4. Probar diferentes configuraciones con un número pequeño de epochs.\n",
        "\n",
        "Vamos a realizar diferentes experimentos cambiando el learning rate de nuestro optimizador."
      ]
    },
    {
      "cell_type": "markdown",
      "id": "5c01a951-e821-4346-b159-0bce6f98b133",
      "metadata": {
        "tags": [],
        "id": "5c01a951-e821-4346-b159-0bce6f98b133"
      },
      "source": [
        "### <font color=\"#004D7F\" size=4>Ejercicio 9</font>\n",
        "\n",
        "Realiza un entrenamiento con la arquitectura y el optimizador que mejor te ha funcionado y utilizar un **learning rate de 0.1**."
      ]
    },
    {
      "cell_type": "code",
      "execution_count": 15,
      "id": "58be2b19-aece-4194-86d9-254528c54bf1",
      "metadata": {
        "colab": {
          "base_uri": "https://localhost:8080/",
          "height": 700
        },
        "id": "58be2b19-aece-4194-86d9-254528c54bf1",
        "outputId": "40a50666-3e76-4ef6-bd9b-0943a7112733"
      },
      "outputs": [
        {
          "output_type": "stream",
          "name": "stdout",
          "text": [
            "Forma de x: (20433, 9)\n",
            "Forma de y: (20433, 1)\n",
            "Epoch 1/5\n",
            "511/511 [==============================] - 18s 32ms/step - loss: 11258579235373056.0000 - mape: 2752.2236 - val_loss: 65478512640.0000 - val_mape: 100.0002\n",
            "Epoch 2/5\n",
            "511/511 [==============================] - 18s 34ms/step - loss: 53777293312.0000 - mape: 100.0000 - val_loss: 65478451200.0000 - val_mape: 100.0000\n",
            "Epoch 3/5\n",
            "511/511 [==============================] - 23s 45ms/step - loss: 53777203200.0000 - mape: 100.0000 - val_loss: 65478336512.0000 - val_mape: 100.0000\n",
            "Epoch 4/5\n",
            "511/511 [==============================] - 16s 30ms/step - loss: 53777039360.0000 - mape: 100.0000 - val_loss: 65478148096.0000 - val_mape: 99.9998\n",
            "Epoch 5/5\n",
            "511/511 [==============================] - 16s 31ms/step - loss: 53776891904.0000 - mape: 99.9999 - val_loss: 65477951488.0000 - val_mape: 99.9995\n"
          ]
        },
        {
          "output_type": "display_data",
          "data": {
            "text/plain": [
              "<Figure size 640x480 with 1 Axes>"
            ],
            "image/png": "[encoded data removed]"
          },
          "metadata": {}
        }
      ],
      "source": [
        "import tensorflow as tf\n",
        "from tensorflow.keras.models import Sequential\n",
        "from tensorflow.keras.layers import Dense\n",
        "from tensorflow.keras.optimizers import Adam\n",
        "import matplotlib.pyplot as plt\n",
        "\n",
        "# Usar todos los datos disponibles\n",
        "\n",
        "# Verificar la forma de los datos completos\n",
        "print(f'Forma de x: {x.shape}')\n",
        "print(f'Forma de y: {y.shape}')\n",
        "\n",
        "# Definir la arquitectura de la red\n",
        "model = Sequential([\n",
        "    Dense(1024, activation='relu', input_shape=(9,)),\n",
        "    Dense(1024, activation='relu'),\n",
        "    Dense(512, activation='relu'),\n",
        "    Dense(256, activation='relu'),\n",
        "    Dense(128, activation='relu'),\n",
        "    Dense(64, activation='relu'),\n",
        "    Dense(32, activation='relu'),\n",
        "    Dense(16, activation='relu'),\n",
        "    Dense(1)  # Capa de salida sin función de activación\n",
        "])\n",
        "\n",
        "# Configuración del optimizador con learning rate personalizado\n",
        "optimizer = Adam(learning_rate=0.1)\n",
        "\n",
        "# Compilar el modelo\n",
        "model.compile(optimizer=optimizer, loss='mean_squared_error', metrics=['mape'])\n",
        "\n",
        "# Entrenar el modelo con validación\n",
        "history = model.fit(x, y, epochs=5, validation_split=0.2)\n",
        "\n",
        "# Visualizar la pérdida y la métrica a lo largo de las epochs\n",
        "plt.plot(history.history['loss'], label='Loss')\n",
        "plt.plot(history.history['val_loss'], label='Validation Loss')\n",
        "plt.plot(history.history['mape'], label='MAPE')\n",
        "plt.plot(history.history['val_mape'], label='Validation MAPE')\n",
        "plt.title('Model loss')\n",
        "plt.ylabel('Loss / MAPE')\n",
        "plt.xlabel('Epoch')\n",
        "plt.legend()\n",
        "plt.show()"
      ]
    },
    {
      "cell_type": "markdown",
      "id": "464a5792-743d-43f6-8cdd-651ad86309a1",
      "metadata": {
        "tags": [],
        "id": "464a5792-743d-43f6-8cdd-651ad86309a1"
      },
      "source": [
        "### <font color=\"#004D7F\" size=4>Ejercicio 10</font>\n",
        "\n",
        "Realiza el mismo entrenamiento que el ejercicio anterior pero esta vez usa un **learning rate de 0.0001**."
      ]
    },
    {
      "cell_type": "code",
      "execution_count": 16,
      "id": "fc098f90-e0e6-4984-8d2c-daf290f41f49",
      "metadata": {
        "colab": {
          "base_uri": "https://localhost:8080/",
          "height": 700
        },
        "id": "fc098f90-e0e6-4984-8d2c-daf290f41f49",
        "outputId": "d8d68417-ab83-42fc-9d06-73ced177c795"
      },
      "outputs": [
        {
          "output_type": "stream",
          "name": "stdout",
          "text": [
            "Forma de x: (20433, 9)\n",
            "Forma de y: (20433, 1)\n",
            "Epoch 1/5\n",
            "511/511 [==============================] - 17s 32ms/step - loss: 29294440448.0000 - mape: 61.6290 - val_loss: 26450968576.0000 - val_mape: 52.5152\n",
            "Epoch 2/5\n",
            "511/511 [==============================] - 16s 32ms/step - loss: 15843450880.0000 - mape: 52.0521 - val_loss: 13592112128.0000 - val_mape: 54.7960\n",
            "Epoch 3/5\n",
            "511/511 [==============================] - 17s 33ms/step - loss: 10602256384.0000 - mape: 54.1790 - val_loss: 11717004288.0000 - val_mape: 58.5520\n",
            "Epoch 4/5\n",
            "511/511 [==============================] - 18s 35ms/step - loss: 9877641216.0000 - mape: 53.3917 - val_loss: 11263191040.0000 - val_mape: 55.7099\n",
            "Epoch 5/5\n",
            "511/511 [==============================] - 16s 32ms/step - loss: 9317286912.0000 - mape: 51.8782 - val_loss: 10507107328.0000 - val_mape: 61.1152\n"
          ]
        },
        {
          "output_type": "display_data",
          "data": {
            "text/plain": [
              "<Figure size 640x480 with 1 Axes>"
            ],
            "image/png": "[encoded data removed]"
          },
          "metadata": {}
        }
      ],
      "source": [
        "import tensorflow as tf\n",
        "from tensorflow.keras.models import Sequential\n",
        "from tensorflow.keras.layers import Dense\n",
        "from tensorflow.keras.optimizers import Adam\n",
        "import matplotlib.pyplot as plt\n",
        "\n",
        "# Usar todos los datos disponibles\n",
        "\n",
        "# Verificar la forma de los datos completos\n",
        "print(f'Forma de x: {x.shape}')\n",
        "print(f'Forma de y: {y.shape}')\n",
        "\n",
        "# Definir la arquitectura de la red\n",
        "model = Sequential([\n",
        "    Dense(1024, activation='relu', input_shape=(9,)),\n",
        "    Dense(1024, activation='relu'),\n",
        "    Dense(512, activation='relu'),\n",
        "    Dense(256, activation='relu'),\n",
        "    Dense(128, activation='relu'),\n",
        "    Dense(64, activation='relu'),\n",
        "    Dense(32, activation='relu'),\n",
        "    Dense(16, activation='relu'),\n",
        "    Dense(1)  # Capa de salida sin función de activación\n",
        "])\n",
        "\n",
        "# Configuración del optimizador con learning rate personalizado\n",
        "optimizer = Adam(learning_rate=0.0001)\n",
        "\n",
        "# Compilar el modelo\n",
        "model.compile(optimizer=optimizer, loss='mean_squared_error', metrics=['mape'])\n",
        "\n",
        "# Entrenar el modelo con validación\n",
        "history = model.fit(x, y, epochs=5, validation_split=0.2)\n",
        "\n",
        "# Visualizar la pérdida y la métrica a lo largo de las epochs\n",
        "plt.plot(history.history['loss'], label='Loss')\n",
        "plt.plot(history.history['val_loss'], label='Validation Loss')\n",
        "plt.plot(history.history['mape'], label='MAPE')\n",
        "plt.plot(history.history['val_mape'], label='Validation MAPE')\n",
        "plt.title('Model loss')\n",
        "plt.ylabel('Loss / MAPE')\n",
        "plt.xlabel('Epoch')\n",
        "plt.legend()\n",
        "plt.show()"
      ]
    },
    {
      "cell_type": "markdown",
      "id": "05214e09-3642-488e-9499-1659520cb329",
      "metadata": {
        "id": "05214e09-3642-488e-9499-1659520cb329"
      },
      "source": [
        "## 5. Ajuste refinado de los parámetros con más epochs. [Opcional]\n",
        "\n",
        "Por último vamos a realizar un entrenamiento más largo para ver hasta donde llega el rendimiento de nuestro modelo."
      ]
    },
    {
      "cell_type": "markdown",
      "id": "bce78f8d-3b8e-4450-8d7e-3545682b87e6",
      "metadata": {
        "tags": [],
        "id": "bce78f8d-3b8e-4450-8d7e-3545682b87e6"
      },
      "source": [
        "### <font color=\"#004D7F\" size=4>Ejercicio 11 [Opcional]</font>\n",
        "\n",
        "**¿Entre los entrenamientos usando learning rates igual a 0.001, 0.1 y 0.0001 cual ha funcionado mejor?**\n",
        "\n",
        "Con el experimento que mejor haya funcionado haz un entrenamiento usando 30 epochs y ver que tal funciona el entrenamiento con más epochs."
      ]
    },
    {
      "cell_type": "code",
      "execution_count": 17,
      "id": "c29c834b-2c2e-4d03-b870-a2078f76c44c",
      "metadata": {
        "colab": {
          "base_uri": "https://localhost:8080/",
          "height": 1318
        },
        "id": "c29c834b-2c2e-4d03-b870-a2078f76c44c",
        "outputId": "2c384067-4b2c-47d8-e45e-c82109583754"
      },
      "outputs": [
        {
          "output_type": "stream",
          "name": "stdout",
          "text": [
            "Forma de x: (20433, 9)\n",
            "Forma de y: (20433, 1)\n",
            "Epoch 1/30\n",
            "511/511 [==============================] - 19s 36ms/step - loss: 16309084160.0000 - mape: 55.7733 - val_loss: 12257206272.0000 - val_mape: 51.6269\n",
            "Epoch 2/30\n",
            "511/511 [==============================] - 24s 47ms/step - loss: 9304632320.0000 - mape: 50.1099 - val_loss: 8966737920.0000 - val_mape: 49.2552\n",
            "Epoch 3/30\n",
            "511/511 [==============================] - 17s 34ms/step - loss: 7576798208.0000 - mape: 43.8930 - val_loss: 10766379008.0000 - val_mape: 39.7329\n",
            "Epoch 4/30\n",
            "511/511 [==============================] - 15s 30ms/step - loss: 6989448192.0000 - mape: 40.9734 - val_loss: 7460606464.0000 - val_mape: 41.7848\n",
            "Epoch 5/30\n",
            "511/511 [==============================] - 17s 34ms/step - loss: 6274089984.0000 - mape: 37.9805 - val_loss: 7083283968.0000 - val_mape: 42.6198\n",
            "Epoch 6/30\n",
            "511/511 [==============================] - 17s 34ms/step - loss: 6291750400.0000 - mape: 37.9091 - val_loss: 7217959936.0000 - val_mape: 38.0723\n",
            "Epoch 7/30\n",
            "511/511 [==============================] - 18s 34ms/step - loss: 6042391552.0000 - mape: 36.7577 - val_loss: 7739966976.0000 - val_mape: 34.5595\n",
            "Epoch 8/30\n",
            "511/511 [==============================] - 19s 37ms/step - loss: 5896399360.0000 - mape: 36.2007 - val_loss: 10827529216.0000 - val_mape: 35.7529\n",
            "Epoch 9/30\n",
            "511/511 [==============================] - 17s 34ms/step - loss: 5601620480.0000 - mape: 35.1249 - val_loss: 7124536320.0000 - val_mape: 33.0164\n",
            "Epoch 10/30\n",
            "511/511 [==============================] - 18s 36ms/step - loss: 5303996416.0000 - mape: 33.5795 - val_loss: 5746139136.0000 - val_mape: 33.4869\n",
            "Epoch 11/30\n",
            "511/511 [==============================] - 18s 35ms/step - loss: 5340244480.0000 - mape: 34.0568 - val_loss: 9086743552.0000 - val_mape: 32.8321\n",
            "Epoch 12/30\n",
            "511/511 [==============================] - 16s 32ms/step - loss: 5162285568.0000 - mape: 32.9908 - val_loss: 5272531456.0000 - val_mape: 34.3632\n",
            "Epoch 13/30\n",
            "511/511 [==============================] - 19s 36ms/step - loss: 5223577088.0000 - mape: 33.3722 - val_loss: 6286774784.0000 - val_mape: 30.4506\n",
            "Epoch 14/30\n",
            "511/511 [==============================] - 17s 34ms/step - loss: 4942711808.0000 - mape: 32.1033 - val_loss: 9324708864.0000 - val_mape: 33.9350\n",
            "Epoch 15/30\n",
            "511/511 [==============================] - 18s 34ms/step - loss: 5095827968.0000 - mape: 33.1067 - val_loss: 7478744064.0000 - val_mape: 30.1242\n",
            "Epoch 16/30\n",
            "511/511 [==============================] - 19s 38ms/step - loss: 4857623552.0000 - mape: 31.8209 - val_loss: 7110273024.0000 - val_mape: 29.5017\n",
            "Epoch 17/30\n",
            "511/511 [==============================] - 17s 33ms/step - loss: 4818606592.0000 - mape: 31.8078 - val_loss: 6618186240.0000 - val_mape: 30.3856\n",
            "Epoch 18/30\n",
            "511/511 [==============================] - 19s 38ms/step - loss: 4705856000.0000 - mape: 31.3894 - val_loss: 4904160256.0000 - val_mape: 32.7250\n",
            "Epoch 19/30\n",
            "511/511 [==============================] - 21s 41ms/step - loss: 4670214144.0000 - mape: 31.1514 - val_loss: 5096936960.0000 - val_mape: 29.4966\n",
            "Epoch 20/30\n",
            "511/511 [==============================] - 18s 36ms/step - loss: 4669638144.0000 - mape: 31.0212 - val_loss: 4921627648.0000 - val_mape: 29.8989\n",
            "Epoch 21/30\n",
            "511/511 [==============================] - 17s 33ms/step - loss: 4595918848.0000 - mape: 30.8854 - val_loss: 5154562048.0000 - val_mape: 29.9168\n",
            "Epoch 22/30\n",
            "511/511 [==============================] - 24s 48ms/step - loss: 4683171328.0000 - mape: 31.1605 - val_loss: 7138705920.0000 - val_mape: 29.4312\n",
            "Epoch 23/30\n",
            "511/511 [==============================] - 17s 34ms/step - loss: 4550965248.0000 - mape: 30.6695 - val_loss: 5019265536.0000 - val_mape: 28.1427\n",
            "Epoch 24/30\n",
            "511/511 [==============================] - 16s 31ms/step - loss: 4664011264.0000 - mape: 31.0918 - val_loss: 6204408832.0000 - val_mape: 28.5610\n",
            "Epoch 25/30\n",
            "511/511 [==============================] - 19s 36ms/step - loss: 4579904512.0000 - mape: 30.2959 - val_loss: 5159380992.0000 - val_mape: 33.6246\n",
            "Epoch 26/30\n",
            "511/511 [==============================] - 17s 33ms/step - loss: 4530309632.0000 - mape: 30.5899 - val_loss: 5425889280.0000 - val_mape: 28.4773\n",
            "Epoch 27/30\n",
            "511/511 [==============================] - 18s 35ms/step - loss: 4521309696.0000 - mape: 30.1545 - val_loss: 5961083392.0000 - val_mape: 29.1837\n",
            "Epoch 28/30\n",
            "511/511 [==============================] - 16s 32ms/step - loss: 4499371008.0000 - mape: 30.2595 - val_loss: 6045960192.0000 - val_mape: 27.7602\n",
            "Epoch 29/30\n",
            "511/511 [==============================] - 19s 37ms/step - loss: 4580602880.0000 - mape: 30.7387 - val_loss: 5377251840.0000 - val_mape: 28.0826\n",
            "Epoch 30/30\n",
            "511/511 [==============================] - 21s 40ms/step - loss: 4426271744.0000 - mape: 30.0179 - val_loss: 6867291136.0000 - val_mape: 28.7596\n"
          ]
        },
        {
          "output_type": "display_data",
          "data": {
            "text/plain": [
              "<Figure size 640x480 with 1 Axes>"
            ],
            "image/png": "[encoded data removed]"
          },
          "metadata": {}
        }
      ],
      "source": [
        "from tensorflow.keras.models import Sequential\n",
        "from tensorflow.keras.layers import Dense\n",
        "from tensorflow.keras.optimizers import Adam\n",
        "import matplotlib.pyplot as plt\n",
        "\n",
        "# Usar todos los datos disponibles\n",
        "\n",
        "# Verificar la forma de los datos completos\n",
        "print(f'Forma de x: {x.shape}')\n",
        "print(f'Forma de y: {y.shape}')\n",
        "\n",
        "# Definir la arquitectura de la red\n",
        "model = Sequential([\n",
        "    Dense(1024, activation='relu', input_shape=(9,)),\n",
        "    Dense(1024, activation='relu'),\n",
        "    Dense(512, activation='relu'),\n",
        "    Dense(256, activation='relu'),\n",
        "    Dense(128, activation='relu'),\n",
        "    Dense(64, activation='relu'),\n",
        "    Dense(32, activation='relu'),\n",
        "    Dense(16, activation='relu'),\n",
        "    Dense(1)  # Capa de salida sin función de activación\n",
        "])\n",
        "\n",
        "# Configuración del optimizador con learning rate personalizado\n",
        "optimizer = Adam(learning_rate=0.001)\n",
        "\n",
        "# Compilar el modelo\n",
        "model.compile(optimizer=optimizer, loss='mean_squared_error', metrics=['mape'])\n",
        "\n",
        "# Entrenar el modelo con validación\n",
        "history = model.fit(x, y, epochs=30, validation_split=0.2)\n",
        "\n",
        "# Visualizar la pérdida y la métrica a lo largo de las epochs\n",
        "plt.plot(history.history['loss'], label='Loss')\n",
        "plt.plot(history.history['val_loss'], label='Validation Loss')\n",
        "plt.plot(history.history['mape'], label='MAPE')\n",
        "plt.plot(history.history['val_mape'], label='Validation MAPE')\n",
        "plt.title('Model loss')\n",
        "plt.ylabel('Loss / MAPE')\n",
        "plt.xlabel('Epoch')\n",
        "plt.legend()\n",
        "plt.show()\n"
      ]
    },
    {
      "cell_type": "markdown",
      "id": "122a9867-c26b-4a60-9990-5676eb76b7b6",
      "metadata": {
        "tags": [],
        "id": "122a9867-c26b-4a60-9990-5676eb76b7b6"
      },
      "source": [
        "### <font color=\"#004D7F\" size=4>Ejercicio 12 [Opcional]</font>\n",
        "\n",
        "Muestra en una gráfica como ha evolucionado el entrenamiento."
      ]
    },
    {
      "cell_type": "code",
      "execution_count": 18,
      "id": "4b6ac9ba-15d1-40b1-b052-7b2d1324c0f9",
      "metadata": {
        "id": "4b6ac9ba-15d1-40b1-b052-7b2d1324c0f9"
      },
      "outputs": [],
      "source": [
        "# El gráfico lo he incluido en la sección de cada ejercicio y se puede ver como el validation loss fluctua mucho lo cual me podría indicar que debo aplicar algunos layers dropout"
      ]
    }
  ],
  "metadata": {
    "kernelspec": {
      "display_name": "Python 3 (ipykernel)",
      "language": "python",
      "name": "python3"
    },
    "language_info": {
      "codemirror_mode": {
        "name": "ipython",
        "version": 3
      },
      "file_extension": ".py",
      "mimetype": "text/x-python",
      "name": "python",
      "nbconvert_exporter": "python",
      "pygments_lexer": "ipython3",
      "version": "3.8.8"
    },
    "colab": {
      "provenance": []
    }
  },
  "nbformat": 4,
  "nbformat_minor": 5
}